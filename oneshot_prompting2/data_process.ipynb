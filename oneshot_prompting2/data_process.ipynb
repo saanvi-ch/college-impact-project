{
 "cells": [
  {
   "cell_type": "markdown",
   "metadata": {},
   "source": [
    "We assume you have the csv file in a directory called data. "
   ]
  },
  {
   "cell_type": "code",
   "execution_count": 2,
   "metadata": {},
   "outputs": [],
   "source": [
    "import pandas as pd \n",
    "import os "
   ]
  },
  {
   "cell_type": "code",
   "execution_count": 3,
   "metadata": {},
   "outputs": [],
   "source": [
    "file_name = os.listdir('data')"
   ]
  },
  {
   "cell_type": "code",
   "execution_count": 4,
   "metadata": {},
   "outputs": [],
   "source": [
    "from email import header\n",
    "\n",
    "\n",
    "df = pd.read_csv('data/' + file_name[0],header=None)\n",
    "\n",
    "df.columns = ['question','A','B','C','D','answer']"
   ]
  },
  {
   "cell_type": "code",
   "execution_count": 5,
   "metadata": {},
   "outputs": [
    {
     "data": {
      "text/html": [
       "<div>\n",
       "<style scoped>\n",
       "    .dataframe tbody tr th:only-of-type {\n",
       "        vertical-align: middle;\n",
       "    }\n",
       "\n",
       "    .dataframe tbody tr th {\n",
       "        vertical-align: top;\n",
       "    }\n",
       "\n",
       "    .dataframe thead th {\n",
       "        text-align: right;\n",
       "    }\n",
       "</style>\n",
       "<table border=\"1\" class=\"dataframe\">\n",
       "  <thead>\n",
       "    <tr style=\"text-align: right;\">\n",
       "      <th></th>\n",
       "      <th>question</th>\n",
       "      <th>A</th>\n",
       "      <th>B</th>\n",
       "      <th>C</th>\n",
       "      <th>D</th>\n",
       "      <th>answer</th>\n",
       "    </tr>\n",
       "  </thead>\n",
       "  <tbody>\n",
       "    <tr>\n",
       "      <th>0</th>\n",
       "      <td>If a pentagon P with vertices at (– 2, – 4), (...</td>\n",
       "      <td>(0, – 3)</td>\n",
       "      <td>(4, 1)</td>\n",
       "      <td>(2, 2)</td>\n",
       "      <td>(– 4, –2)</td>\n",
       "      <td>D</td>\n",
       "    </tr>\n",
       "    <tr>\n",
       "      <th>1</th>\n",
       "      <td>The length of a rectangle is twice its width. ...</td>\n",
       "      <td>2500</td>\n",
       "      <td>2</td>\n",
       "      <td>50</td>\n",
       "      <td>25</td>\n",
       "      <td>C</td>\n",
       "    </tr>\n",
       "    <tr>\n",
       "      <th>2</th>\n",
       "      <td>A positive integer n is called “powerful” if, ...</td>\n",
       "      <td>392</td>\n",
       "      <td>336</td>\n",
       "      <td>300</td>\n",
       "      <td>297</td>\n",
       "      <td>A</td>\n",
       "    </tr>\n",
       "    <tr>\n",
       "      <th>3</th>\n",
       "      <td>At breakfast, lunch, and dinner, Joe randomly ...</td>\n",
       "      <td>\\frac{7}{9}</td>\n",
       "      <td>\\frac{8}{9}</td>\n",
       "      <td>\\frac{5}{9}</td>\n",
       "      <td>\\frac{9}{11}</td>\n",
       "      <td>B</td>\n",
       "    </tr>\n",
       "    <tr>\n",
       "      <th>4</th>\n",
       "      <td>Suppose $f(x)$ is a function that has this pro...</td>\n",
       "      <td>(-inf, 10)</td>\n",
       "      <td>(-inf, 9)</td>\n",
       "      <td>(-inf, 8)</td>\n",
       "      <td>(-inf, 7)</td>\n",
       "      <td>C</td>\n",
       "    </tr>\n",
       "  </tbody>\n",
       "</table>\n",
       "</div>"
      ],
      "text/plain": [
       "                                            question            A  \\\n",
       "0  If a pentagon P with vertices at (– 2, – 4), (...     (0, – 3)   \n",
       "1  The length of a rectangle is twice its width. ...         2500   \n",
       "2  A positive integer n is called “powerful” if, ...          392   \n",
       "3  At breakfast, lunch, and dinner, Joe randomly ...  \\frac{7}{9}   \n",
       "4  Suppose $f(x)$ is a function that has this pro...   (-inf, 10)   \n",
       "\n",
       "             B            C             D answer  \n",
       "0       (4, 1)       (2, 2)     (– 4, –2)      D  \n",
       "1            2           50            25      C  \n",
       "2          336          300           297      A  \n",
       "3  \\frac{8}{9}  \\frac{5}{9}  \\frac{9}{11}      B  \n",
       "4    (-inf, 9)    (-inf, 8)     (-inf, 7)      C  "
      ]
     },
     "execution_count": 5,
     "metadata": {},
     "output_type": "execute_result"
    }
   ],
   "source": [
    "df.head() "
   ]
  },
  {
   "cell_type": "code",
   "execution_count": 6,
   "metadata": {},
   "outputs": [],
   "source": [
    "data_dict = df.to_dict(orient='records')"
   ]
  },
  {
   "cell_type": "code",
   "execution_count": 7,
   "metadata": {},
   "outputs": [],
   "source": [
    "Questions = [ ]\n",
    "Answers = [ ]\n",
    "Prompts = [] \n",
    "for data in data_dict:\n",
    "    question = f\"Question: {data['question']}\\n A: {data['A']}\\n B: {data['B']}\\n C: {data['C']}\\n D: {data['D']}\\n\"\n",
    "    answer = data['answer']\n",
    "    prompt = f\"Please Answer the following multiple choice question. \\n {question}\\n Make sure to end your response with: \\n Answer: <Letter of the correct answer>\"\n",
    "    Questions.append(question)\n",
    "    Answers.append(answer)\n",
    "    Prompts.append(prompt)"
   ]
  },
  {
   "cell_type": "code",
   "execution_count": 8,
   "metadata": {},
   "outputs": [],
   "source": [
    "from chatbot import Chatbot"
   ]
  },
  {
   "cell_type": "code",
   "execution_count": 9,
   "metadata": {},
   "outputs": [],
   "source": [
    "chatbot = Chatbot(\"You are expert mathematician.\")"
   ]
  },
  {
   "cell_type": "code",
   "execution_count": 10,
   "metadata": {},
   "outputs": [
    {
     "data": {
      "text/plain": [
       "\"Let's denote the width of the rectangle as x. Therefore, the length will be 2x (given that it's twice the width).\\n\\nFrom the problem, we know that the length of the diagonal is 5√5. \\n\\nWe can use the Pythagorean theorem to solve for x, because in every rectangle, the length, width, and diagonal form a right triangle.\\n\\nAccording to the Pythagorean theorem: (Length)^2 + (Width)^2 = (Diagonal)^2.\\n\\nIn our case: (2x)^2 + (x)^2 = (5√5)^2. \\n\\nThis simplifies to: 4x^2 + x^2 = 125.\\n\\nCombining like terms will give us: 5x^2 = 125. \\n\\nBy isolating x, we get x^2 = 25 and taking the square root we get x = 5 (we disregard the negative root because length can't be negative).\\n\\nThus, the length equals 2 times 5, which is 10, and the width is 5.\\n\\nThe area of a rectangle is found by the formula Length x Width. \\n\\nSubstituting our values in gives us: 10 * 5 = 50.\\n\\nSo, the correct answer is:\\n\\nAnswer: C\""
      ]
     },
     "execution_count": 10,
     "metadata": {},
     "output_type": "execute_result"
    }
   ],
   "source": [
    "chatbot.query(Prompts[1])"
   ]
  },
  {
   "cell_type": "code",
   "execution_count": 11,
   "metadata": {},
   "outputs": [
    {
     "data": {
      "text/plain": [
       "'C'"
      ]
     },
     "execution_count": 11,
     "metadata": {},
     "output_type": "execute_result"
    }
   ],
   "source": [
    "Answers[1]"
   ]
  },
  {
   "cell_type": "code",
   "execution_count": 12,
   "metadata": {},
   "outputs": [
    {
     "name": "stdout",
     "output_type": "stream",
     "text": [
      "270\n"
     ]
    }
   ],
   "source": [
    "print(len(Prompts))"
   ]
  },
  {
   "cell_type": "code",
   "execution_count": 25,
   "metadata": {},
   "outputs": [
    {
     "name": "stdout",
     "output_type": "stream",
     "text": [
      "[3, 6, 8, 45, 54, 68, 94, 104, 117, 121, 124, 147, 174, 177, 178, 185, 190, 194, 201, 218, 240, 258]\n"
     ]
    }
   ],
   "source": [
    "probability_questions_index = []\n",
    "probability_questions = []\n",
    "\n",
    "for i in range(len(Questions)):\n",
    "    if \"probability\" in Questions[i]:\n",
    "        probability_questions_index.append(i)\n",
    "        probability_questions.append(Questions[i])\n",
    "\n",
    "print(probability_questions_index)\n",
    "\n",
    "probability_responses = []\n",
    "for n in probability_questions_index:\n",
    "    probability_response = chatbot.query(Prompts[n])\n",
    "    chatbot.clear_history()\n",
    "    probability_responses.append(probability_response)\n"
   ]
  },
  {
   "cell_type": "code",
   "execution_count": 26,
   "metadata": {},
   "outputs": [],
   "source": [
    "probability_answers = []\n",
    "for n in probability_questions:\n",
    "    probability_answers.append(Answers[n])"
   ]
  },
  {
   "cell_type": "code",
   "execution_count": 27,
   "metadata": {},
   "outputs": [
    {
     "name": "stdout",
     "output_type": "stream",
     "text": [
      "[0, 1, 3, 4, 5, 7, 8, 9, 10, 12, 13, 14, 16, 17, 19, 20, 21]\n",
      "[2, 6, 11, 15, 18]\n"
     ]
    }
   ],
   "source": [
    "probability_correct_list = []\n",
    "probability_wrong_list = []\n",
    "for i in range(len(probability_responses)):\n",
    "    if \"Answer: A\" in probability_responses[i] and probability_answers[i] == \"A\":\n",
    "        probability_correct_list.append(i)\n",
    "    elif \"Answer: B\" in probability_responses[i] and probability_answers[i] == \"B\":\n",
    "        probability_correct_list.append(i)\n",
    "    elif \"Answer: C\" in probability_responses[i] and probability_answers[i] == \"C\":\n",
    "        probability_correct_list.append(i)\n",
    "    elif \"Answer: D\" in probability_responses[i] and probability_answers[i] == \"D\":\n",
    "        probability_correct_list.append(i)\n",
    "    else:\n",
    "        probability_wrong_list.append(i)\n",
    "    \n",
    "print(probability_correct_list)\n",
    "print(probability_wrong_list)"
   ]
  },
  {
   "cell_type": "code",
   "execution_count": null,
   "metadata": {},
   "outputs": [],
   "source": [
    "help7 = {}\n",
    "\n",
    "for n in probability_correct_list:\n",
    "    help7[Questions[n]] = Responses[n]"
   ]
  },
  {
   "cell_type": "code",
   "execution_count": 15,
   "metadata": {},
   "outputs": [
    {
     "name": "stdout",
     "output_type": "stream",
     "text": [
      "[3, 6, 54, 68]\n"
     ]
    }
   ],
   "source": [
    "probability = []\n",
    "\n",
    "for n in correct_list:\n",
    "    if \"probability\" in Responses[n]:\n",
    "        probability.append(n)\n",
    "\n",
    "print(probability)\n",
    "help7 = {}\n",
    "\n",
    "for n in probability:\n",
    "    help7[Questions[n]] = Responses[n]"
   ]
  },
  {
   "cell_type": "code",
   "execution_count": 16,
   "metadata": {},
   "outputs": [],
   "source": [
    "prompt7 = f\"\"\"\n",
    "Please solve this problem and explain the solution: Suppose that we roll four 6-sided fair dice with faces numbered 1 to~6. Let $a/b$ be the probability that the highest roll is a 5, where $a$ and $b$ are relatively prime positive integers. Find $a + b$.\n",
    "\n",
    "Here is a python dictionary that provides examples of how to solve similar problems:\n",
    "{help7}\n",
    "The keys are the questions and the values are the solutions.\n",
    "\"\"\""
   ]
  },
  {
   "cell_type": "code",
   "execution_count": 23,
   "metadata": {},
   "outputs": [
    {
     "name": "stdout",
     "output_type": "stream",
     "text": [
      "The problem at hand concerns probability. We are tasked with finding the probability that the highest roll out of four 6-sided fair dice is 5. \n",
      "\n",
      "The sample space, or the total number of possible outcomes when rolling four 6-sided dice, can be calculated as 6^4 = 1296. \n",
      "\n",
      "Now, to calculate the event in which the highest roll is 5, we should consider sequences where all numbers are either 5 or less. Therefore, we can have outcomes from 1 to 5 on each dice roll, or 5^4 = 625 possibilities. \n",
      "\n",
      "However, we must subtract the cases where 5 is not included at all. Such sequences could be any from 1 to 4 and there are 4^4 = 256 such sequences. \n",
      "\n",
      "Hence, the required event space is 625 - 256 = 369. \n",
      "\n",
      "The probability of the highest roll being 5 is hence 369 out of 1296. This fraction simplifies to a/b where a=123 and b=432.\n",
      "\n",
      "So, a + b = 123 + 432 = 555.\n",
      "\n",
      "Therefore, the solution to the problem is 555.\n"
     ]
    }
   ],
   "source": [
    "result7 = chatbot.query(prompt7)\n",
    "print(result7)"
   ]
  },
  {
   "cell_type": "code",
   "execution_count": null,
   "metadata": {},
   "outputs": [],
   "source": []
  }
 ],
 "metadata": {
  "kernelspec": {
   "display_name": "base",
   "language": "python",
   "name": "python3"
  },
  "language_info": {
   "codemirror_mode": {
    "name": "ipython",
    "version": 3
   },
   "file_extension": ".py",
   "mimetype": "text/x-python",
   "name": "python",
   "nbconvert_exporter": "python",
   "pygments_lexer": "ipython3",
   "version": "3.12.4"
  }
 },
 "nbformat": 4,
 "nbformat_minor": 2
}
