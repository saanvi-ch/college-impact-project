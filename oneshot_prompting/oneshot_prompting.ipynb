{
 "cells": [
  {
   "cell_type": "code",
   "execution_count": 42,
   "metadata": {},
   "outputs": [],
   "source": [
    "problem = 'Solve this problem: Each of the three-digits n/umbers $111$ to $999$ is coloured blue or yellow in such a way that the sum of any two (not necessarily different) yellow numbers is equal to a blue number. What is the maximum possible number of yellow numbers there can be?'"
   ]
  },
  {
   "cell_type": "code",
   "execution_count": 6,
   "metadata": {},
   "outputs": [],
   "source": [
    "problem = 'Suppose that we roll four 6-sided fair dice with faces numbered 1 to~6. Let $a/b$ be the probability that the highest roll is a 5, where $a$ and $b$ are relatively prime positive integers. Find $a + b$.'"
   ]
  },
  {
   "cell_type": "code",
   "execution_count": 7,
   "metadata": {},
   "outputs": [],
   "source": [
    "\n",
    "\n",
    "prompt = f\"\"\"\n",
    "{problem}\n",
    "\n",
    "You can insert your scratch work as follows:\n",
    "\n",
    "Problem Constraints:\n",
    "1)\n",
    "2)\n",
    "and so on...\n",
    "\n",
    "<scratch>\n",
    "\n",
    "</scratch>\n",
    "\n",
    "Final Response: \n",
    "\n",
    "\n",
    "Here is an example of how to solve a problem:\n",
    "\n",
    "EXAMPLE PROBLEM: Let $k, l > 0$ be parameters. The parabola $y = kx^2 - 2kx + l$ intersects the line $y = 4$ at two points $A$ and $B$. These points are distance 6 apart. What is the sum of the squares of the distances from $A$ and $B$ to the origin?\n",
    "\n",
    "EXAMPLE SOLUTION:\n",
    "Problem Constraints:\n",
    "1) The equation for the parabola is $y = kx^2 - 2kx + l$ so it must be a vertical parabola.\n",
    "2) The parabola intersects with horizontal line $y = 4$.\n",
    "3) The points $A$ and $B$ are 6 units apart. \n",
    "4)\n",
    "5)\n",
    "\n",
    "<scratch>\n",
    "We can first rewrite the equation of the parabola by setting $y$ equal to $4$ because the parabola intersects with the line $y = 4$:\n",
    "$kx^2 - 2kx + l = 4$\n",
    "$kx^2 - 2kx + (l - 4) = 0$\n",
    "\n",
    "If the two intersection points are $(x1, y1)$ and $(x2, y2)$, we know that the distances from the origin $O$ to each point $A$ and $B$ are as follows:\n",
    "$OA = √((x1 - 0)^2 + (4 - 0)^2) = √(x1^2 + 16)$\n",
    "$OB = √((x2 - 0)^2 + (4 - 0)^2) = √(x2^2 + 16)$\n",
    "\n",
    "We also know that the distance between points $A$ and $B$ is $6$. Because this is a vertical parabola intersecting with a horizontal line, we know that points $A$ and $B$ must be equidistant from the vertex of the parabola, which means that they are each $3$ units away from the x-value of the vertex.\n",
    "We can find the x-value of the vertex with the formula $-b/2a$ for the standard equation $kx^2 - 2kx + (l - 4) = 0$. We get:\n",
    "$(2k)/(2k) = 1$\n",
    "\n",
    "Now that we know the x-value of the vertex of the parabola is $1$, we can find $x1$ and $x2$ by adding or subtracting $3$ from $1$. We get $-2$ and $4$ for $x1$ and $x2$, and $y1$ and $y2$ must be $4$ because they are on the line $y = 4$, so points $A$ and $B$ are:\n",
    "$A = (-2, 4)$\n",
    "$B = (4, 4)$\n",
    "\n",
    "Using the formulas for distance $OA$ and $OB$ we derived earlier, we get:\n",
    "$OA = √((-2)^2 + 16) = √20$\n",
    "$OB = √(4^2 + 16)$ = √32$\n",
    "\n",
    "Lastly, we add the squares of these distances to get:\n",
    "$(√20)^2 + (√32)^2 = 20 + 32 = 52$\n",
    "</scratch>\n",
    "\n",
    "Final Response: 52\n",
    "\n",
    "Now please solve the original problem.\n",
    "\"\"\""
   ]
  },
  {
   "cell_type": "code",
   "execution_count": 3,
   "metadata": {},
   "outputs": [],
   "source": [
    "system_prompt = ''' \n",
    "You are an expert mathematician who is seasoned at solving problems and explaining your solutions.\n",
    "'''"
   ]
  },
  {
   "cell_type": "code",
   "execution_count": 1,
   "metadata": {},
   "outputs": [],
   "source": [
    "from chatbot import Chatbot"
   ]
  },
  {
   "cell_type": "code",
   "execution_count": 4,
   "metadata": {},
   "outputs": [],
   "source": [
    "chatbot = Chatbot(system_prompt)"
   ]
  },
  {
   "cell_type": "code",
   "execution_count": 8,
   "metadata": {},
   "outputs": [],
   "source": [
    "response = chatbot.query(prompt)"
   ]
  },
  {
   "cell_type": "code",
   "execution_count": 9,
   "metadata": {},
   "outputs": [
    {
     "name": "stdout",
     "output_type": "stream",
     "text": [
      "Problem Constraints:\n",
      "\n",
      "1) We are rolling four 6-sided dice, all fair with faces numbered 1-6.\n",
      "2) We are finding the probability that the highest roll is a 5. This means we have to exclude cases where 6 is rolled on any of the dice but include all others.\n",
      "3) We need to represent the final probability as a reduced fraction and find the sum of the numerator and the denominator.\n",
      "\n",
      "<scratch>\n",
      "First, let's find the total possible outcomes of rolling four dice, which is simply the total number of faces to the power of how many dice we have:\n",
      "\n",
      "6^4 = 1296\n",
      "\n",
      "Next, let's consider how many possible outcomes have 5 as the highest roll. Since we need to exclude any cases where a 6 is rolled, we have 5 possible outcomes on each die:\n",
      "\n",
      "5^4 = 625\n",
      "\n",
      "So the probability of rolling four dice and getting 5 as the highest number is the number of desired outcomes divided by the total number of outcomes:\n",
      "\n",
      "p = 625 / 1296\n",
      "\n",
      "This can be reduced to get the final fraction using their common factor 1:\n",
      "\n",
      "p = 625/1296\n",
      "</scratch>\n",
      "\n",
      "Final Response:\n",
      "\n",
      "So the probability of the highest roll being a 5 is 625/1296. The sum of the numerator and the denominator is 625 + 1296 = 1921.\n"
     ]
    }
   ],
   "source": [
    "print(response)"
   ]
  },
  {
   "cell_type": "code",
   "execution_count": null,
   "metadata": {},
   "outputs": [],
   "source": []
  },
  {
   "cell_type": "code",
   "execution_count": 46,
   "metadata": {},
   "outputs": [],
   "source": [
    "messages = [\n",
    "    {\"role\": \"system\", \"content\": system_prompt},\n",
    "    {\"role\": \"user\", \"content\":  prompt}\n",
    "  ]"
   ]
  },
  {
   "cell_type": "code",
   "execution_count": 47,
   "metadata": {},
   "outputs": [
    {
     "name": "stdout",
     "output_type": "stream",
     "text": [
      "Problem Constraints:\n",
      "1) We're rolling four dice, each with six faces numbered 1-6.\n",
      "2) The highest roll needs to be a 5.\n",
      "3) We need to express the probability in the form $a/b$ where $a$ and $b$ are relatively prime positive integers.\n",
      "\n",
      "<scratch>\n",
      "The total number of outcomes is $6^4$ because each of the 4 rolls can give one of 6 outcomes.\n",
      "\n",
      "In the desired outcomes, the highest roll is a 5, which means that all numbers rolled must be 5 or less. The total number of such outcomes is $5^4$ because each of the 4 rolls can give one of 5 outcomes (1, 2, 3, 4, or 5).\n",
      "\n",
      "However, this count also includes outcomes where the maximum roll is less than 5, i.e., when all the numbers rolled are 4 or less. This number of outcomes is $4^4$ because each roll can give one of 4 outcomes (1, 2, 3, or 4).\n",
      "\n",
      "To exclude these, we subtract these undesirable outcomes from the total to get the number of outcomes where the maximum roll is a 5, which is $5^4 - 4^4$.\n",
      "\n",
      "So, the probability is $(5^4 - 4^4) / 6^4$.\n",
      "\n",
      "This simplifies to $625 - 256 = 369$ for the numerator and $6^4 = 1296$ for the denominator. \n",
      "\n",
      "By calculating the greatest common divisor of 369 and 1296, we get 3. Therefore, we own the fractions by the gcd to get $123/432$.\n",
      "\n",
      "The sum of 123 plus 432 equals 555. \n",
      "</scratch>\n",
      "\n",
      "Final Response: 555\n"
     ]
    }
   ],
   "source": [
    "from openai import OpenAI\n",
    "client = OpenAI()\n",
    "\n",
    "completion = client.chat.completions.create(\n",
    "  model=\"gpt-4\",\n",
    "  messages=messages\n",
    ")\n",
    "response = completion.choices[0].message.content\n",
    "messages.append({\"role\": \"assistant\", \"content\": response})\n",
    "print(response)"
   ]
  },
  {
   "cell_type": "code",
   "execution_count": 21,
   "metadata": {},
   "outputs": [],
   "source": [
    "follow_up = ''' \n",
    "Please check all of the mathematical work in the previous solution to make sure the solution is correct.\n",
    "\n",
    "For instance, if you find that the previous solution has something like \n",
    "52 and 32 are coprime. Please check it is follows:\n",
    "\n",
    "The previous answer asserts that 52 and 32 are coprime.\n",
    "<scratch>\n",
    "Well 52 = 2^2 * 13 and 32 = 2^5. So they are not coprime. They have GCD of 4.\n",
    "</scratch>\n",
    "\n",
    "If you find there is a mistake, please correct it and incorporate it into the solution. Make sure\n",
    "to make use of \n",
    "\n",
    "<scratch>\n",
    "\n",
    "</scratch>\n",
    "'''"
   ]
  },
  {
   "cell_type": "code",
   "execution_count": 14,
   "metadata": {},
   "outputs": [],
   "source": [
    "follow_up_probability = ''' \n",
    "Please check all of the mathematical work to make sure the solution is correct, with \n",
    "a focus on probability laws. \n",
    "\n",
    "For instance, if you find that the previous solution has something like\n",
    "\n",
    "The probability of E is 1/2 and the probability of F is 1/3. Therefore, the probability of E and F is 1/6.\n",
    "\n",
    "<scratch>\n",
    "Well, the probability of E and F is the probability of E times the probability of F,\n",
    "only if E and F are independent. If they are not independent, we cannot use this formula. \n",
    "</scratch>\n",
    "\n",
    "If you find there is a mistake, please correct it and incorporate it into the solution.\n",
    "\n",
    "'''"
   ]
  },
  {
   "cell_type": "code",
   "execution_count": 11,
   "metadata": {},
   "outputs": [],
   "source": [
    "follow_up_probability = ''' \n",
    "Please check all of the mathematical work to make sure the solution is correct, with \n",
    "a focus on probability laws. \n",
    "\n",
    "For instance, if you find that the previous solution has something like\n",
    "\n",
    "The probability of rolling exactly a 4 on a 4 six-sided dice is 4^4/6^4.\n",
    "\n",
    "<scratch>\n",
    "The probability of rolling AT MOST a 4 on a 4 six-sided dice is 4^4/6^4. \n",
    "We need to subtract the probability of rolling all 1s, 2s, and 3s from this probability.\n",
    "This is 3^4/6^4. Thus the total probability is 4^4/6^4 - 3^4/6^4. \n",
    "</scratch>\n",
    "\n",
    "If you find there is a mistake, please correct it and incorporate it into the solution.\n",
    "\n",
    "'''"
   ]
  },
  {
   "cell_type": "code",
   "execution_count": 34,
   "metadata": {},
   "outputs": [
    {
     "name": "stdout",
     "output_type": "stream",
     "text": [
      "Problem Constraints:\n",
      "1) Four standard 6-sided fair dice are being rolled.\n",
      "2) We need to find the probability that the highest roll is a 5.\n",
      "\n",
      "<scratch>\n",
      "The total number of outcomes when rolling four fair, six-sided dice is $6^4$ or 1296.\n",
      "\n",
      "The probability of rolling AT MOST a 5 on four 6-sided dice is $5^4/6^4$. As mentioned in the problem, we have to subtract the cases where 6 is rolled which is the converse of rolling at most a 5. Hence, we should subtract the probability of rolling AT MOST a 4 on the same four dice, which is $4^4/6^4$.\n",
      "\n",
      "Therefore, the probability that the highest roll is a 5 (meaning, we roll at most a 5 and more than a 4) is $5^4/6^4 - 4^4/6^4$. \n",
      "\n",
      "Simplifying this gives $\\frac{625 - 256}{1296} = \\frac{369}{1296}$.\n",
      "\n",
      "</scratch>\n",
      "\n",
      "Final Response: After simplifying, we find that $a$ is 369 and $b$ is 1296. Both of these are relatively prime, and so our final answer is $a + b = 369 + 1296 = 1665$. So, 1665 is our answer.\n"
     ]
    }
   ],
   "source": [
    "messages.append({\"role\": \"user\", \"content\": follow_up_probability})\n",
    "completion = client.chat.completions.create(\n",
    "  model=\"gpt-4\",\n",
    "  messages=messages\n",
    ")\n",
    "response = completion.choices[0].message.content\n",
    "messages.append({\"role\": \"assistant\", \"content\": response})\n",
    "print(response)"
   ]
  },
  {
   "cell_type": "code",
   "execution_count": 49,
   "metadata": {},
   "outputs": [
    {
     "name": "stdout",
     "output_type": "stream",
     "text": [
      "I'll check the previous solution's calculation for the probability.\n",
      "\n",
      "The previous solution asserted that the fraction $123/432$ is in simplest form; however, this needs to be confirmed. \n",
      "\n",
      "<scratch>\n",
      "To simplify the fraction, we need to find the greatest common divisor (GCD) of 123 and 432.\n",
      "\n",
      "123 = 3 * 41\n",
      "432 = 2^4 * 3^3\n",
      "\n",
      "By looking at the prime factorizations, we can see that the GCD of 123 and 432 is 3. Therefore, $123/432$ should be simplified to $41/144$ by dividing both the numerator and denominator by 3.\n",
      "</scratch>\n",
      "\n",
      "The correct fraction is $41/144$, so the answer, $a + b$, is $41 + 144 = 185$. The previous solution had a mistake in simplifying their fraction; the correct answer is 185 rather than 555.\n"
     ]
    }
   ],
   "source": [
    "messages.append({\"role\": \"user\", \"content\": follow_up})\n",
    "completion = client.chat.completions.create(\n",
    "  model=\"gpt-4\",\n",
    "  messages=messages\n",
    ")\n",
    "response = completion.choices[0].message.content\n",
    "messages.append({\"role\": \"assistant\", \"content\": response})\n",
    "print(response)"
   ]
  },
  {
   "cell_type": "code",
   "execution_count": 12,
   "metadata": {},
   "outputs": [
    {
     "data": {
      "text/plain": [
       "'You are correct, there is an oversight in the original solution. The probability derived in the original solution includes cases where the highest roll is 4 (or even less), but our problem specifically wants the cases where highest roll is 5. \\n\\nWe need to calculate the probability of getting at most 5 as the highest roll and then subtract the probability of getting at most 4 as the highest roll. This will give us the exact probability for getting exactly 5 as the highest roll.\\n\\n<scratch>\\nTotal possible outcomes of rolling four dice is:\\n\\n6^4 = 1296\\n\\nThe outcomes where at most 5 is rolled on any die:\\n\\n5^4 = 625\\n\\nThe outcomes where at most 4 is rolled on any die:\\n\\n4^4 = 256\\n\\nSo our desired outcomes where highest roll is exactly 5 will be the difference of these two:\\n\\n625 - 256 = 369\\n\\nFinally, the probability (a/b) of the highest roll being a 5 = 369/1296\\n</scratch>\\n\\nFinal Response:\\n\\nThe correct probability of the highest roll being a 5 after rolling four 6-sided dice is 369/1296. The sum of the numerator and the denominator is 369 + 1296 = 1665.'"
      ]
     },
     "execution_count": 12,
     "metadata": {},
     "output_type": "execute_result"
    }
   ],
   "source": [
    "chatbot.query(follow_up_probability)"
   ]
  },
  {
   "cell_type": "code",
   "execution_count": 15,
   "metadata": {},
   "outputs": [
    {
     "name": "stdout",
     "output_type": "stream",
     "text": [
      "You are correct, there is an oversight in the original solution. The probability derived in the original solution includes cases where the highest roll is 4 (or even less), but our problem specifically wants the cases where highest roll is 5. \n",
      "\n",
      "We need to calculate the probability of getting at most 5 as the highest roll and then subtract the probability of getting at most 4 as the highest roll. This will give us the exact probability for getting exactly 5 as the highest roll.\n",
      "\n",
      "<scratch>\n",
      "Total possible outcomes of rolling four dice is:\n",
      "\n",
      "6^4 = 1296\n",
      "\n",
      "The outcomes where at most 5 is rolled on any die:\n",
      "\n",
      "5^4 = 625\n",
      "\n",
      "The outcomes where at most 4 is rolled on any die:\n",
      "\n",
      "4^4 = 256\n",
      "\n",
      "So our desired outcomes where highest roll is exactly 5 will be the difference of these two:\n",
      "\n",
      "625 - 256 = 369\n",
      "\n",
      "Finally, the probability (a/b) of the highest roll being a 5 = 369/1296\n",
      "</scratch>\n",
      "\n",
      "Final Response:\n",
      "\n",
      "The correct probability of the highest roll being a 5 after rolling four 6-sided dice is 369/1296. The sum of the numerator and the denominator is 369 + 1296 = 1665.\n"
     ]
    }
   ],
   "source": [
    "print(chatbot.message_history[-1]['content'])"
   ]
  },
  {
   "cell_type": "code",
   "execution_count": 22,
   "metadata": {},
   "outputs": [],
   "source": [
    "response = chatbot.query(follow_up)"
   ]
  },
  {
   "cell_type": "code",
   "execution_count": 23,
   "metadata": {},
   "outputs": [
    {
     "name": "stdout",
     "output_type": "stream",
     "text": [
      "There seems to be a misunderstanding. The solution does not claim that 52 and 32 are coprime. Rather, it computes the sum of the fraction (representing a probability) 369/1296, where 369 and 1296 are coprime (and that's why this fraction is in simplest form). \n",
      "\n",
      "<scratch>\n",
      "To verify, we need to find the greatest common divisor (GCD) of 369 and 1296. If their GCD is 1, they are coprime.\n",
      "\n",
      "369 = 3^2 * 41\n",
      "1296 = 6^4 = 2^8 * 3^4\n",
      "\n",
      "So the GCD of 369 and 1296 is indeed 1, confirming that these two integers are coprime. \n",
      "</scratch>\n",
      "\n",
      "So the solution provided (that the probability is 369/1296 and the sum of numerator and denominator is 1665) is correct. \n",
      "\n",
      "No correction is needed to the original answer based on your query.\n"
     ]
    }
   ],
   "source": [
    "print(response )"
   ]
  },
  {
   "cell_type": "code",
   "execution_count": null,
   "metadata": {},
   "outputs": [],
   "source": []
  }
 ],
 "metadata": {
  "kernelspec": {
   "display_name": "Python 3",
   "language": "python",
   "name": "python3"
  },
  "language_info": {
   "codemirror_mode": {
    "name": "ipython",
    "version": 3
   },
   "file_extension": ".py",
   "mimetype": "text/x-python",
   "name": "python",
   "nbconvert_exporter": "python",
   "pygments_lexer": "ipython3",
   "version": "3.9.7"
  }
 },
 "nbformat": 4,
 "nbformat_minor": 2
}
