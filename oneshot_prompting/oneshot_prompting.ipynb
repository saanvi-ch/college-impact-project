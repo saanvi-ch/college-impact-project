{
 "cells": [
  {
   "cell_type": "code",
   "execution_count": 28,
   "metadata": {},
   "outputs": [],
   "source": [
    "prompt = \"\"\"\n",
    "Solve this problem: Each of the three-digits numbers $111$ to $999$ is coloured blue or yellow in such a way that the sum of any two (not necessarily different) yellow numbers is equal to a blue number. What is the maximum possible number of yellow numbers there can be?\n",
    "\n",
    "You can insert your scratch work as follows:\n",
    "\n",
    "Problem Constraints:\n",
    "1)\n",
    "2)\n",
    "and so on...\n",
    "\n",
    "<scratch>\n",
    "\n",
    "</scratch>\n",
    "\n",
    "Final Response: \n",
    "\n",
    "\n",
    "Here is an example of how to solve a problem:\n",
    "\n",
    "EXAMPLE PROBLEM: Let $k, l > 0$ be parameters. The parabola $y = kx^2 - 2kx + l$ intersects the line $y = 4$ at two points $A$ and $B$. These points are distance 6 apart. What is the sum of the squares of the distances from $A$ and $B$ to the origin?\n",
    "\n",
    "EXAMPLE SOLUTION:\n",
    "Problem Constraints:\n",
    "1) The equation for the parabola is $y = kx^2 - 2kx + l$ so it must be a vertical parabola.\n",
    "2) The parabola intersects with horizontal line $y = 4$.\n",
    "3) The points $A$ and $B$ are 6 units apart. \n",
    "4)\n",
    "5)\n",
    "\n",
    "<scratch>\n",
    "We can first rewrite the equation of the parabola by setting $y$ equal to $4$ because the parabola intersects with the line $y = 4$:\n",
    "$kx^2 - 2kx + l = 4$\n",
    "$kx^2 - 2kx + (l - 4) = 0$\n",
    "\n",
    "If the two intersection points are $(x1, y1)$ and $(x2, y2)$, we know that the distances from the origin $O$ to each point $A$ and $B$ are as follows:\n",
    "$OA = √((x1 - 0)^2 + (4 - 0)^2) = √(x1^2 + 16)$\n",
    "$OB = √((x2 - 0)^2 + (4 - 0)^2) = √(x2^2 + 16)$\n",
    "\n",
    "We also know that the distance between points $A$ and $B$ is $6$. Because this is a vertical parabola intersecting with a horizontal line, we know that points $A$ and $B$ must be equidistant from the vertex of the parabola, which means that they are each $3$ units away from the x-value of the vertex.\n",
    "We can find the x-value of the vertex with the formula $-b/2a$ for the standard equation $kx^2 - 2kx + (l - 4) = 0$. We get:\n",
    "$(2k)/(2k) = 1$\n",
    "\n",
    "Now that we know the x-value of the vertex of the parabola is $1$, we can find $x1$ and $x2$ by adding or subtracting $3$ from $1$. We get $-2$ and $4$ for $x1$ and $x2$, and $y1$ and $y2$ must be $4$ because they are on the line $y = 4$, so points $A$ and $B$ are:\n",
    "$A = (-2, 4)$\n",
    "$B = (4, 4)$\n",
    "\n",
    "Using the formulas for distance $OA$ and $OB$ we derived earlier, we get:\n",
    "$OA = √((-2)^2 + 16) = √20$\n",
    "$OB = √(4^2 + 16)$ = √32$\n",
    "\n",
    "Lastly, we add the squares of these distances to get:\n",
    "$(√20)^2 + (√32)^2 = 20 + 32 = 52$\n",
    "</scratch>\n",
    "\n",
    "Final Response: 52\n",
    "\n",
    "Now please solve the original problem.\n",
    "\"\"\""
   ]
  },
  {
   "cell_type": "code",
   "execution_count": 29,
   "metadata": {},
   "outputs": [],
   "source": [
    "system_prompt = ''' \n",
    "You are an expert mathematician who is seasoned at solving problems and explaining your solutions.\n",
    "'''"
   ]
  },
  {
   "cell_type": "code",
   "execution_count": 33,
   "metadata": {},
   "outputs": [
    {
     "name": "stdout",
     "output_type": "stream",
     "text": [
      "Problem Constraints:\n",
      "1) Any two (not necessarily different) yellow numbers' sum needs to produce a blue number.\n",
      "2) The numbers considered are ranging from 111 to 999 (both inclusive).\n",
      "\n",
      "<scratch>\n",
      "We know that given sequential numbers, a blue number cannot immediately follow a yellow number. This is because if we have a yellow number, then the sum of two identical yellow numbers must yield a blue number, which would be observed as being 2 up in the sequence. If a blue number followed immediately after a yellow number (1 up in the sequence), then we would have a contradiction that a single number is both yellow and blue.\n",
      "Keep this fact in mind when solving the problem. \n",
      "\n",
      "Let's first consider a block from 3n to 3n+2, inclusive, where n is a nonnegative integer. We can prove that the maximum number of yellow numbers in this block is 2. Let's say 3n and 3n+1 are yellow, their sum is blue which is fine. If 3n+2 were also yellow, the sum of 3n+1 and 3n+2 would be 6n+3 which is not included in the same block, a contradiction. \n",
      "\n",
      "For the three-digit numbers, we have blocks from 111 to 113, 114 to 116, ..., 999. For each block, there are at most 2 yellow numbers. Since the maximum number of yellow numbers within each block is two, and there are 297 blocks (from n=37 to n=333), the maximum possible number of yellow numbers is equal to 2*297=594. \n",
      "\n",
      "If we have 594 yellow numbers, all sum of any two yellow numbers (which is between 222 and 1998) should be blue. We have 594 yellow numbers and 388 blue numbers (ranging from 111 to 999), so no blue number comes after any yellow number. The sums of yellow number pairs are only in the blue region (~389 to 1998), meaning that no blue numbers are directly adjacent to yellow ones. All numbers from 111 to 700 must be yellow, as that's 590 numbers. We’ll let the other 4 yellow numbers be located at 703, 706, 709, and 712.\n",
      "\n",
      "Summing any two yellow numbers, we'll have:\n",
      "  - If both of them are in 1-700, the sum will be in 222-1400, which are all blue numbers.\n",
      "  - If one is in 1-700 and one is in {703, 706, 709, 712}, the sum will be in 814-1412, which are also all blue numbers.\n",
      "  - If both are in {703, 706, 709, 712}, the sum will be in 1406-1424, which are again all blue numbers.\n",
      "\n",
      "So yes, 594 yellow numbers and 388 blue numbers will work.\n",
      "</scratch>\n",
      "\n",
      "Final Response: The maximum possible number of yellow numbers there can be is 594.\n"
     ]
    }
   ],
   "source": [
    "from openai import OpenAI\n",
    "client = OpenAI()\n",
    "\n",
    "completion = client.chat.completions.create(\n",
    "  model=\"gpt-4\",\n",
    "  messages=[\n",
    "    {\"role\": \"system\", \"content\": system_prompt},\n",
    "    {\"role\": \"user\", \"content\":  prompt}\n",
    "  ]\n",
    ")\n",
    "response = completion.choices[0].message.content\n",
    "print(response)"
   ]
  },
  {
   "cell_type": "code",
   "execution_count": null,
   "metadata": {},
   "outputs": [],
   "source": []
  }
 ],
 "metadata": {
  "kernelspec": {
   "display_name": "Python 3",
   "language": "python",
   "name": "python3"
  },
  "language_info": {
   "codemirror_mode": {
    "name": "ipython",
    "version": 3
   },
   "file_extension": ".py",
   "mimetype": "text/x-python",
   "name": "python",
   "nbconvert_exporter": "python",
   "pygments_lexer": "ipython3",
   "version": "3.12.4"
  }
 },
 "nbformat": 4,
 "nbformat_minor": 2
}
