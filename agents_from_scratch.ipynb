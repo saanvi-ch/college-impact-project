{
 "cells": [
  {
   "cell_type": "code",
   "execution_count": 1,
   "metadata": {},
   "outputs": [],
   "source": [
    "problem = ''' \n",
    "For how many positive integers $m$ does the equation ||x-1|-2|=m/100 have $4$ integer solutions?\n",
    "'''"
   ]
  },
  {
   "cell_type": "code",
   "execution_count": 2,
   "metadata": {},
   "outputs": [],
   "source": [
    "system_prompt_planner = ''' \n",
    "You are an expert mathematician who is seasoned at solving problems and explaining your solutions. You are an expert at generating a sequence of steps for solving math problems. \n",
    "'''"
   ]
  },
  {
   "cell_type": "code",
   "execution_count": 5,
   "metadata": {},
   "outputs": [],
   "source": [
    "prompt_for_planner = f''' \n",
    "Please propose a plan for solving the following problem. The format should be like this\n",
    "\n",
    "1. Step 1 \n",
    "\n",
    "2. Step 2\n",
    "\n",
    "3. Step 3 \n",
    "\n",
    "and so on.. \n",
    "\n",
    "Do not solve each of the individual steps. Rather, only provide the steps, when each individually solved,\n",
    "give a final solution. Here is an example \n",
    "\n",
    "Problem:\n",
    "\n",
    "\n",
    "Solve this problem: Let $k, l > 0$ be parameters. The parabola $y = kx^2 - 2kx + l$ intersects the line $y = 4$ at two points $A$ and $B$. These points are distance 6 apart. What is the sum of the squares of the distances from $A$ and $B$ to the origin?\n",
    "\n",
    "Plan: \n",
    "\n",
    "\n",
    "Step 1: Recognize that the intersection points of the parabola $y = kx^2 - 2kx + l$ and the line $y = 4$ will be the solutions of the equation $kx^2 - 2kx + l = 4$.\n",
    "\n",
    "Step 2: Set up the equation $kx^2 - 2kx + l = 4$ and re-arrange it into a quadratic form $kx^2 - 2kx + (l-4) = 0$. \n",
    "\n",
    "Step 3: Draw a sketch showing that the x-coordinates of point A and B are the roots of this quadratic equation (which can be found using the quadratic formula), and y-coordinate is always 4.\n",
    "\n",
    "Step 4: Notice that the difference in x-coordinates of A and B is equal to 6. Using the quadratic formula, this or the sum of roots can be written as the square root of (the square of the sum of roots minus 4 times the product of roots). Given the sum and product of roots for a quadratic equation, write this equation, replacing sum and product of roots.\n",
    "\n",
    "Step 5: Using the formula for the distance of a point from the origin, write an expression for the distances of A and B from the origin in terms of the roots of the quadratic equation.\n",
    "\n",
    "Step 6: Use the sum of the squares of these distances to obtain the required expression.\n",
    "\n",
    "Step 7: Plug in the information obtained from Step 4 into the expression for the sum of squares of distances from Step 6 to obtain the required result.\n",
    "\n",
    "Alright, here is the problem for you to provide a plan for.\n",
    "\n",
    "Problem:\n",
    "\n",
    "{problem}\n",
    "\n",
    "Please provide your plan.\n",
    "'''"
   ]
  },
  {
   "cell_type": "code",
   "execution_count": 6,
   "metadata": {},
   "outputs": [
    {
     "name": "stdout",
     "output_type": "stream",
     "text": [
      "Plan:\n",
      "\n",
      "Step 1: Recognize that the equation given is a type of nested absolute function which can be rewritten into cases based on different conditions.\n",
      "\n",
      "Step 2: Rewrite the absolute value equation into separate cases. We will obtain the following cases: (i) x-1 = 2+m/100, (ii) x-1 = m/100-2, (iii) 1-x = 2+m/100, (iv) 1-x = m/100-2.\n",
      "\n",
      "Step 3: Solve these equations in terms of x to get possible x values. Reorganizing we should get x for each case: (i) x = 3+m/100, (ii) x = 1- m/100 + 2 = 3- m/100, (iii) x = 1- 2 - m/100 = 1 - m/100, (iv) x = 1 - m/100 +2 = 3 - m/100.\n",
      "\n",
      "Step 4: Recognize that there are two distinct x values as answers: x = 3+m/100 and x = 1 - m/100. For these x values to be integer solutions, both expressions should be integers. \n",
      "\n",
      "Step 5: infer that 'm' should be a multiple of 100 to make x a integer because m is divided by 100 in both expressions. Let m = 100n, substitute this into the expressions for x.\n",
      "\n",
      "Step 6: We need four integer solutions, which means the number of integers between the two values of x (inclusive) should be equal to 4.\n",
      "\n",
      "Step 7: Write an equation representing the difference between the two integer x values (taking the higher minus the lower, to ensure a positive result) being equal to 3. \n",
      "\n",
      "Step 8: Solve this equation for n (which is m/100) to find for how many integers m the equation holds true. Remember to multiply n by 100 to get back m. \n",
      "\n",
      "The execution of every step should lead to a solution for the given problem.\n"
     ]
    }
   ],
   "source": [
    "from openai import OpenAI\n",
    "client = OpenAI()\n",
    "\n",
    "completion = client.chat.completions.create(\n",
    "  model=\"gpt-4\",\n",
    "  messages=[\n",
    "    {\"role\": \"system\", \"content\": system_prompt_planner},\n",
    "    {\"role\": \"user\", \"content\":  prompt_for_planner }\n",
    "  ]\n",
    ")\n",
    "response = completion.choices[0].message.content\n",
    "print(response)"
   ]
  },
  {
   "cell_type": "code",
   "execution_count": 2,
   "metadata": {},
   "outputs": [],
   "source": [
    "from agents import Planner\n",
    "planner = Planner() \n",
    "\n",
    "response = planner.ask(problem)\n",
    "print(response )\n",
    "\n"
   ]
  },
  {
   "cell_type": "code",
   "execution_count": 4,
   "metadata": {},
   "outputs": [
    {
     "data": {
      "text/plain": [
       "<openai.OpenAI at 0x7fe3c8ffdd60>"
      ]
     },
     "execution_count": 4,
     "metadata": {},
     "output_type": "execute_result"
    }
   ],
   "source": [
    "planner.client "
   ]
  },
  {
   "cell_type": "code",
   "execution_count": 6,
   "metadata": {},
   "outputs": [
    {
     "data": {
      "text/plain": [
       "<openai.OpenAI at 0x7fe3c92b4040>"
      ]
     },
     "execution_count": 6,
     "metadata": {},
     "output_type": "execute_result"
    }
   ],
   "source": [
    "#if you wanted a different planner \n",
    "different_planner = Planner() \n",
    "different_planner.client "
   ]
  },
  {
   "cell_type": "code",
   "execution_count": null,
   "metadata": {},
   "outputs": [],
   "source": []
  }
 ],
 "metadata": {
  "kernelspec": {
   "display_name": "base",
   "language": "python",
   "name": "python3"
  },
  "language_info": {
   "codemirror_mode": {
    "name": "ipython",
    "version": 3
   },
   "file_extension": ".py",
   "mimetype": "text/x-python",
   "name": "python",
   "nbconvert_exporter": "python",
   "pygments_lexer": "ipython3",
   "version": "3.9.7"
  }
 },
 "nbformat": 4,
 "nbformat_minor": 2
}
