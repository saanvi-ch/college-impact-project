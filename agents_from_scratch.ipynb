{
 "cells": [
  {
   "cell_type": "code",
   "execution_count": 37,
   "metadata": {},
   "outputs": [
    {
     "data": {
      "text/plain": [
       "<module 'agents' from '/Users/saanvihublikar/Desktop/college-impact-project/agents.py'>"
      ]
     },
     "execution_count": 37,
     "metadata": {},
     "output_type": "execute_result"
    }
   ],
   "source": [
    "import importlib\n",
    "import agents\n",
    "importlib.reload(agents)"
   ]
  },
  {
   "cell_type": "code",
   "execution_count": 32,
   "metadata": {},
   "outputs": [],
   "source": [
    "problem = ''' \n",
    "There exists a unique increasing geometric sequence of five 2-digit positive integers. What is their sum?\n",
    "\n",
    "The terms of the sequence must be integers WITHOUT ROUNDING. Do not round. You must find terms that are integers after being multiplied by r.\n",
    "'''"
   ]
  },
  {
   "cell_type": "code",
   "execution_count": 33,
   "metadata": {},
   "outputs": [
    {
     "name": "stdout",
     "output_type": "stream",
     "text": [
      "Plan:\n",
      "\n",
      "Step 1: Recognize that the problem asks you to find an increasing geometric sequence of five 2-digit positive integers. \n",
      "\n",
      "Step 2: Understand that a geometric sequence follows the pattern of each term being multiplied by a constant ratio. Let's call the first term 'a' and the common ratio 'r'.\n",
      "\n",
      "Step 3: Write out the 5 terms in the format of their ratio. This would look like a, ar, ar^2, ar^3, and ar^4.\n",
      "\n",
      "Step 4: From Step 3, note that all the terms must be a 2-digit positive integer. Therefore, 'a' must be a one-digit integer and 'ar^4' must be a 2-digit integer.\n",
      "\n",
      "Step 5: Consider the constraints of 'a' and 'r'. 'a' could be 1-9 because it's a one-digit integer, and 'r' needs to be an integer where 'ar^4' is a 2-digit integer, hence it must be between 2-3.\n",
      "\n",
      "Step 6: Loop through all the possible combinations of 'a'(1 - 9) and 'r' (2 - 3) to see if all elements in the sequence are 2-digit integers. To do this write a loop or by manually testing the combinations.\n",
      "\n",
      "Step 7: Once the unique sequence is found where all terms are 2-digit integers, add these numbers together to find their sum. Because geometric sequences have a property that the sum in finite geometric sequence can be calculated by a certain formula, it is not necessary to find every single term, apply sum formula instead.\n",
      "\n",
      "Step 8: The sum from Step 7 is your final solution. \n",
      "\n",
      "Do note that you need to ensure that the sequence is increasing, and remember anytime 'r' is multiplied, the sequence should produce an integer.\n"
     ]
    }
   ],
   "source": [
    "from agents import Planner\n",
    "planner = Planner()\n",
    "\n",
    "plan = planner.ask(problem)\n",
    "print(plan)"
   ]
  },
  {
   "cell_type": "code",
   "execution_count": 34,
   "metadata": {},
   "outputs": [
    {
     "name": "stdout",
     "output_type": "stream",
     "text": [
      "Plan:\n",
      "\n",
      "Step 1: Understand the problem constraints, in this case, it asks for an increasing geometric sequence of five 2-digit positive integers.\n",
      "\n",
      "Step 2: Realize that a geometric sequence is a set of numbers in which each term after the first is found by multiplying the previous term by a fixed, non-zero number. Denote the first term as 'a' and the common ratio as 'r'.\n",
      "\n",
      "Step 3: Write out the five terms of the geometric sequence as: a, ar, ar^2, ar^3, ar^4.\n",
      "\n",
      "Step 4: Notice from the sequence in Step 3, the first term, 'a', must be a one-digit integer and the last term, 'ar^4', must be a two-digit integer because all the terms must be two-digit positive integers.\n",
      "\n",
      "Step 5: Consider the constraints for both 'a' and 'r'. 'a' could range between 1 and 9 (since 'a' must be a one-digit number) and 'r' should be a small integer, likely between 2 and 3, such that when it's raised to the fourth power and multiplied by 'a', it gives a two-digit number.\n",
      "\n",
      "Step 6: Iterate all the possible combinations for 'a' (from 1 to 9) and 'r' (from 2 to 3) and check if all numbers in the potential five-term sequence are two-digit integers, you could write a loop to accomplish this or manually check the combinations.\n",
      "\n",
      "Step 7: When the unique sequence is found where all terms are two-digit integers, use the formula for the sum of geometric series to find their sum instead of adding the terms manually.\n",
      "\n",
      "Step 8: Ensure that the calculated sequence is strictly increasing, i.e., each term is larger than the previous one.\n",
      "\n",
      "Step 9: The sum obtained in Step 7 (provided the conditions of step 8 are satisfied) is your final solution. \n",
      "\n",
      "Remember that all terms in the sequence should be integers without any rounding, and that each multiplication with 'r' should result in an integer.\n"
     ]
    }
   ],
   "source": [
    "from agents import Plan_Checker\n",
    "plan_checker = Plan_Checker()\n",
    "\n",
    "new_plan = plan_checker.ask(problem, plan)\n",
    "print(new_plan)"
   ]
  },
  {
   "cell_type": "code",
   "execution_count": 38,
   "metadata": {},
   "outputs": [
    {
     "name": "stdout",
     "output_type": "stream",
     "text": [
      "9\n",
      "[1, 2, 3, 4, 5, 6, 7, 8, 9]\n"
     ]
    }
   ],
   "source": [
    "from agents import Plan_Counter\n",
    "plan_counter = Plan_Counter()\n",
    "\n",
    "x = int(plan_counter.ask(new_plan))\n",
    "print(x)\n",
    "\n",
    "list = []\n",
    "for i in range(1, x+1):\n",
    "    list.append(i)\n",
    "\n",
    "print(list)"
   ]
  },
  {
   "cell_type": "code",
   "execution_count": 40,
   "metadata": {},
   "outputs": [],
   "source": [
    "from agents import Mathematician\n",
    "mathematician = Mathematician()\n",
    "\n",
    "from agents import Checker\n",
    "checker = Checker()\n",
    "\n",
    "solutions = []\n",
    "new_solutions = []\n",
    "for i in list:\n",
    "    solution = mathematician.ask(problem, new_plan, i)\n",
    "    solutions.append(solution)\n",
    "    new_solution = checker.ask(problem, solution, i, new_plan)\n",
    "    new_solutions.append(new_solution)"
   ]
  },
  {
   "cell_type": "code",
   "execution_count": 41,
   "metadata": {},
   "outputs": [
    {
     "name": "stdout",
     "output_type": "stream",
     "text": [
      "Using the provided work: \n",
      "\n",
      "1. We need a geometric sequence with a common ratio 'r' and the first term 'a'. As mentioned in the work, we understand that 'a' must be a single digit number to maintain the two-digit constraint in each term. \n",
      "\n",
      "2. We also acknowledge that 'r', the common ratio, should be a small integer, typically between 2 and 3, to ensure the fifth term of our sequence does not exceed two digits.\n",
      "\n",
      "3. According to the above, we can now generate potential sequences and check for conditions. By doing this, we find that the only sequence that fulfills all the conditions is when 'a' = 6 and 'r' = 2: [6, 12, 24, 48, 96]\n",
      "\n",
      "4. To find the sum of the sequence, we sum up these numbers. \n",
      "\n",
      "Using these observations and performing the calculations, we find that the sum of this unique increasing geometric sequence of five 2-digit positive integers is 186.\n"
     ]
    }
   ],
   "source": [
    "from agents import Summarizer\n",
    "summarizer = Summarizer()\n",
    "\n",
    "answer = summarizer.ask(problem, new_solutions)\n",
    "print(answer)"
   ]
  },
  {
   "cell_type": "code",
   "execution_count": null,
   "metadata": {},
   "outputs": [
    {
     "name": "stdout",
     "output_type": "stream",
     "text": [
      "The explanation provided for Step 8 is correct.\n",
      "\n",
      "Here is the validated version:\n",
      "\n",
      "Step 8 Explanation:\n",
      "\n",
      "In this step, you are asked to validate whether the solution found in the previous steps is correct and complies with the problem statement.\n",
      "\n",
      "More concisely, we are verifying whether all the terms of the sequence are two-digit positive integers. Should any term not meet these conditions, we would adjust the first or last term as needed before repeating the process from step 4.\n",
      "\n",
      "1. First, you would examine all the terms you've generated in the geometric sequence.\n",
      "2. Check if all numbers are two-digit positive integers. This means that all numbers must be greater than or equal to 10 and less than or equal to 99.\n",
      "3. If all numbers in the sequence satisfy these conditions, then the sequence complies with the problem statement and you have completed the task.\n",
      "4. However, if any of the terms do not meet these criteria, the plan would need to be adjusted. This adjustment could involve altering the first or last term in the sequence.\n",
      "5. After adjusting, restart the process from step 4: setting up the equation based on the new first or last term, resolving the equation for the common ratio, generating the sequence with the new common ratio, and calculating the sum of terms.\n",
      "6. Repeat step 8 or continue repeating this process until you can validate that the solution meets all the conditions given in the problem statement. Once this is confirmed, the sequence is the solution to the problem. \n",
      "\n",
      "This step is crucial as it ensures that the solution meets the problem's requirements, confirming its accuracy.\n"
     ]
    }
   ],
   "source": [
    "print(new_solutions[x-1])"
   ]
  },
  {
   "cell_type": "code",
   "execution_count": 31,
   "metadata": {},
   "outputs": [
    {
     "name": "stdout",
     "output_type": "stream",
     "text": [
      "Step 8 Explanation:\n",
      "\n",
      "In this step, you are asked to validate whether the solution found in the previous steps is correct and complies with the problem statement.\n",
      "\n",
      "More concisely, we are verifying whether all the terms of the sequence are two-digit positive integers. Should any term not meet these conditions, we would adjust the first or last term as needed before repeating the process from step 4.\n",
      "\n",
      "1. First, you would examine all the terms you've generated in the geometric sequence.\n",
      "2. Check if all numbers are two-digit positive integers. This means that all numbers must be greater than or equal to 10 and less than or equal to 99.\n",
      "3. If all numbers in the sequence satisfy these conditions, then the sequence complies with the problem statement and you have completed the task.\n",
      "4. However, if any of the terms do not meet these criteria, the plan would need to be adjusted. This adjustment could involve altering the first or last term in the sequence.\n",
      "5. After adjusting, restart the process from step 4: setting up the equation based on the new first or last term, resolving the equation for the common ratio, generating the sequence with the new common ratio, and calculating the sum of terms.\n",
      "6. Repeat step 8 or continue repeating this process until you can validate that the solution meets all the conditions given in the problem statement. Once this is confirmed, the sequence is the solution to the problem. \n",
      "\n",
      "This step is crucial as it ensures that the solution meets the problem's requirements, confirming its accuracy.\n"
     ]
    }
   ],
   "source": [
    "print(solutions[x-1])"
   ]
  },
  {
   "cell_type": "code",
   "execution_count": null,
   "metadata": {},
   "outputs": [],
   "source": []
  }
 ],
 "metadata": {
  "kernelspec": {
   "display_name": "base",
   "language": "python",
   "name": "python3"
  },
  "language_info": {
   "codemirror_mode": {
    "name": "ipython",
    "version": 3
   },
   "file_extension": ".py",
   "mimetype": "text/x-python",
   "name": "python",
   "nbconvert_exporter": "python",
   "pygments_lexer": "ipython3",
   "version": "3.12.4"
  }
 },
 "nbformat": 4,
 "nbformat_minor": 2
}
