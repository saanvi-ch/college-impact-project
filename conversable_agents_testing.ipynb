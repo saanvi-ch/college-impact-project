{
 "cells": [
  {
   "cell_type": "code",
   "execution_count": 1,
   "metadata": {},
   "outputs": [],
   "source": [
    "import os\n",
    "from autogen import ConversableAgent"
   ]
  },
  {
   "cell_type": "code",
   "execution_count": 3,
   "metadata": {},
   "outputs": [],
   "source": [
    "cathy = ConversableAgent(\n",
    "    \"cathy\",\n",
    "    system_message=\"You are an expert mathematician who is seasoned at collaborating with others to solve problems and explain your solutions.\",\n",
    "    llm_config={\"config_list\": [{\"model\": \"gpt-4\", \"temperature\": 0.9, \"api_key\": os.environ.get(\"OPENAI_API_KEY\")}]},\n",
    "    human_input_mode=\"NEVER\",  # Never ask for human input.\n",
    ")\n",
    "\n",
    "joe = ConversableAgent(\n",
    "    \"joe\",\n",
    "    system_message=\"You are an expert mathematician who is seasoned at revising other mathematician's solutions and explaining your solutions.\",\n",
    "    llm_config={\"config_list\": [{\"model\": \"gpt-4\", \"temperature\": 0.7, \"api_key\": os.environ.get(\"OPENAI_API_KEY\")}]},\n",
    "    human_input_mode=\"NEVER\",  # Never ask for human input.\n",
    ")"
   ]
  },
  {
   "cell_type": "code",
   "execution_count": 5,
   "metadata": {},
   "outputs": [
    {
     "name": "stdout",
     "output_type": "stream",
     "text": [
      "\u001b[33mjoe\u001b[0m (to cathy):\n",
      "\n",
      "Cathy, let's solve this problem together: Suppose that we roll four 6-sided fair dice with faces numbered 1 to~6. Let $a/b$ be the probability that the highest roll is a 5, where $a$ and $b$ are relatively prime positive integers. Find $a + b$. Let's revise each other's answers until we get the right solution.\n",
      "\n",
      "--------------------------------------------------------------------------------\n",
      "\u001b[33mcathy\u001b[0m (to joe):\n",
      "\n",
      "Alright, let's get started with breaking down the problem.\n",
      "\n",
      "We are interested in the probability that the highest number rolled is a 5. This means we could have rolled a 5, 4, 3, 2, or 1 on each dice. \n",
      "\n",
      "First, let's calculate the total possible outcomes. Since each die has 6 faces and we are rolling 4 dice, there are $6^4 = 1296$ total outcomes.\n",
      "\n",
      "Next, let’s find the favourable outcomes. Any of the four dice could have been a five while the others are less than or equal to five. Since each dice can roll five numbers (1 through 5), there are $5^4 = 625$ of these outcomes. But we have to subtract outcomes where all dice rolled a number less than 5. For that, each dice can roll 4 numbers (1 through 4), there are $4^4 = 256$ outcomes. So the desired outcome is $625 - 256 = 369$.\n",
      "\n",
      "Therefore, the probability that the highest roll is a 5 is $369/1296$. These numbers have a common factor of 3, so the reduced form would be $123/432$. \n",
      "\n",
      "Thus, if we add $123+432$, we get $555$.\n",
      "\n",
      "Cathy, let me know if you agree or if you see any error.\n",
      "\n",
      "\n",
      "--------------------------------------------------------------------------------\n",
      "\u001b[33mjoe\u001b[0m (to cathy):\n",
      "\n",
      "You have the right approach, but there's a small error in your calculation. \n",
      "\n",
      "You correctly found the total number of outcomes, $6^4 = 1296$.\n",
      "\n",
      "Then you calculated the number of outcomes where the highest roll is a 5 or less, which is indeed $5^4 = 625$. \n",
      "\n",
      "But, the next step is where the error lies. You subtracted the outcomes where all dice rolled a number less than 5. For that, each dice can roll 4 numbers (1 through 4), and as you said, there are indeed $4^4 = 256$ outcomes. So, we subtract this from 625 to get $625 - 256 = 369$. \n",
      "\n",
      "However, this gives us the number of outcomes where the highest roll is exactly 5, not 5 or less. We need to consider the outcomes where the highest roll is 4 or less and subtract this from the total number of outcomes, not from the outcomes where the highest roll is 5 or less.\n",
      "\n",
      "So, we should have $6^4 - 4^4 = 1296 - 256 = 1040$ favourable outcomes. \n",
      "\n",
      "The probability that the highest roll is a 5 should then be $1040/1296$, which reduces to $65/81$. \n",
      "\n",
      "Adding these together, we get $65 + 81 = 146$. \n",
      "\n",
      "So, the answer should be $146$. Please let me know if this makes sense.\n",
      "\n",
      "--------------------------------------------------------------------------------\n",
      "\u001b[33mcathy\u001b[0m (to joe):\n",
      "\n",
      "Ah, I see my mistake. I misunderstood the question originally. You're correct, Cathy!\n",
      "\n",
      "We're indeed looking for the cases where the highest number rolled is exactly 5, not 5 or less. So we should consider the outcomes where the highest roll is 4 or less and subtract this from the total number of outcomes.\n",
      "\n",
      "Your calculation for the total favourable outcomes, $6^4 - 4^4 = 1040$, is correct. As is your calculation for the probability that the highest roll is a 5, $1040/1296$, which simplifies to $65/81$.\n",
      "\n",
      "Your new answer, $65 + 81 = 146$, is correct.\n",
      "\n",
      "Thank you for correcting my mistake. I apologize for the confusion earlier!\n",
      "\n",
      "--------------------------------------------------------------------------------\n"
     ]
    }
   ],
   "source": [
    "result = joe.initiate_chat(cathy, message = \"Cathy, let's solve this problem together: Suppose that we roll four 6-sided fair dice with faces numbered 1 to~6. Let $a/b$ be the probability that the highest roll is a 5, where $a$ and $b$ are relatively prime positive integers. Find $a + b$. Let's revise each other's answers until we get the right solution.\", max_turns=2)"
   ]
  },
  {
   "cell_type": "code",
   "execution_count": null,
   "metadata": {},
   "outputs": [],
   "source": []
  }
 ],
 "metadata": {
  "kernelspec": {
   "display_name": "Python 3",
   "language": "python",
   "name": "python3"
  },
  "language_info": {
   "codemirror_mode": {
    "name": "ipython",
    "version": 3
   },
   "file_extension": ".py",
   "mimetype": "text/x-python",
   "name": "python",
   "nbconvert_exporter": "python",
   "pygments_lexer": "ipython3",
   "version": "3.12.4"
  }
 },
 "nbformat": 4,
 "nbformat_minor": 2
}
