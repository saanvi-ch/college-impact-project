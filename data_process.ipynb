{
 "cells": [
  {
   "cell_type": "markdown",
   "metadata": {},
   "source": [
    "We assume you have the csv file in a directory called data. "
   ]
  },
  {
   "cell_type": "code",
   "execution_count": 2,
   "metadata": {},
   "outputs": [],
   "source": [
    "import pandas as pd \n",
    "import os "
   ]
  },
  {
   "cell_type": "code",
   "execution_count": 4,
   "metadata": {},
   "outputs": [],
   "source": [
    "file_name = os.listdir('data')"
   ]
  },
  {
   "cell_type": "code",
   "execution_count": 10,
   "metadata": {},
   "outputs": [],
   "source": [
    "from email import header\n",
    "\n",
    "\n",
    "df = pd.read_csv('data/' + file_name[0],header=None)\n",
    "\n",
    "df.columns = ['question','A','B','C','D','answer']"
   ]
  },
  {
   "cell_type": "code",
   "execution_count": 11,
   "metadata": {},
   "outputs": [
    {
     "data": {
      "text/html": [
       "<div>\n",
       "<style scoped>\n",
       "    .dataframe tbody tr th:only-of-type {\n",
       "        vertical-align: middle;\n",
       "    }\n",
       "\n",
       "    .dataframe tbody tr th {\n",
       "        vertical-align: top;\n",
       "    }\n",
       "\n",
       "    .dataframe thead th {\n",
       "        text-align: right;\n",
       "    }\n",
       "</style>\n",
       "<table border=\"1\" class=\"dataframe\">\n",
       "  <thead>\n",
       "    <tr style=\"text-align: right;\">\n",
       "      <th></th>\n",
       "      <th>question</th>\n",
       "      <th>A</th>\n",
       "      <th>B</th>\n",
       "      <th>C</th>\n",
       "      <th>D</th>\n",
       "      <th>answer</th>\n",
       "    </tr>\n",
       "  </thead>\n",
       "  <tbody>\n",
       "    <tr>\n",
       "      <th>0</th>\n",
       "      <td>If a pentagon P with vertices at (– 2, – 4), (...</td>\n",
       "      <td>(0, – 3)</td>\n",
       "      <td>(4, 1)</td>\n",
       "      <td>(2, 2)</td>\n",
       "      <td>(– 4, –2)</td>\n",
       "      <td>D</td>\n",
       "    </tr>\n",
       "    <tr>\n",
       "      <th>1</th>\n",
       "      <td>The length of a rectangle is twice its width. ...</td>\n",
       "      <td>2500</td>\n",
       "      <td>2</td>\n",
       "      <td>50</td>\n",
       "      <td>25</td>\n",
       "      <td>C</td>\n",
       "    </tr>\n",
       "    <tr>\n",
       "      <th>2</th>\n",
       "      <td>A positive integer n is called “powerful” if, ...</td>\n",
       "      <td>392</td>\n",
       "      <td>336</td>\n",
       "      <td>300</td>\n",
       "      <td>297</td>\n",
       "      <td>A</td>\n",
       "    </tr>\n",
       "    <tr>\n",
       "      <th>3</th>\n",
       "      <td>At breakfast, lunch, and dinner, Joe randomly ...</td>\n",
       "      <td>\\frac{7}{9}</td>\n",
       "      <td>\\frac{8}{9}</td>\n",
       "      <td>\\frac{5}{9}</td>\n",
       "      <td>\\frac{9}{11}</td>\n",
       "      <td>B</td>\n",
       "    </tr>\n",
       "    <tr>\n",
       "      <th>4</th>\n",
       "      <td>Suppose $f(x)$ is a function that has this pro...</td>\n",
       "      <td>(-inf, 10)</td>\n",
       "      <td>(-inf, 9)</td>\n",
       "      <td>(-inf, 8)</td>\n",
       "      <td>(-inf, 7)</td>\n",
       "      <td>C</td>\n",
       "    </tr>\n",
       "  </tbody>\n",
       "</table>\n",
       "</div>"
      ],
      "text/plain": [
       "                                            question            A  \\\n",
       "0  If a pentagon P with vertices at (– 2, – 4), (...     (0, – 3)   \n",
       "1  The length of a rectangle is twice its width. ...         2500   \n",
       "2  A positive integer n is called “powerful” if, ...          392   \n",
       "3  At breakfast, lunch, and dinner, Joe randomly ...  \\frac{7}{9}   \n",
       "4  Suppose $f(x)$ is a function that has this pro...   (-inf, 10)   \n",
       "\n",
       "             B            C             D answer  \n",
       "0       (4, 1)       (2, 2)     (– 4, –2)      D  \n",
       "1            2           50            25      C  \n",
       "2          336          300           297      A  \n",
       "3  \\frac{8}{9}  \\frac{5}{9}  \\frac{9}{11}      B  \n",
       "4    (-inf, 9)    (-inf, 8)     (-inf, 7)      C  "
      ]
     },
     "execution_count": 11,
     "metadata": {},
     "output_type": "execute_result"
    }
   ],
   "source": [
    "df.head() "
   ]
  },
  {
   "cell_type": "code",
   "execution_count": 13,
   "metadata": {},
   "outputs": [],
   "source": [
    "data_dict = df.to_dict(orient='records')"
   ]
  },
  {
   "cell_type": "code",
   "execution_count": 22,
   "metadata": {},
   "outputs": [],
   "source": [
    "Questions = [ ]\n",
    "Answers = [ ]\n",
    "Prompts = [] \n",
    "for data in data_dict:\n",
    "    question = f\"Question: {data['question']}\\n A: {data['A']}\\n B: {data['B']}\\n C: {data['C']}\\n D: {data['D']}\\n\"\n",
    "    answer = data['answer']\n",
    "    prompt = f\"Please Answer the following multiple choice question. \\n {question}\\n Make sure to end your response with: \\n Answer: <Letter of the correct answer>\"\n",
    "    Questions.append(question)\n",
    "    Answers.append(answer)\n",
    "    Prompts.append(prompt)"
   ]
  },
  {
   "cell_type": "code",
   "execution_count": 23,
   "metadata": {},
   "outputs": [
    {
     "name": "stdout",
     "output_type": "stream",
     "text": [
      "Please Answer the following multiple choice question. \n",
      " Question: If a pentagon P with vertices at (– 2, – 4), (– 4, 1), (–1, 4), (2, 4), and (3, 0) is reflected across the line y = x to get a new pentagon, P’, then one of the vertices of P’ is\n",
      " A: (0, – 3)\n",
      " B: (4, 1)\n",
      " C: (2, 2)\n",
      " D: (– 4, –2)\n",
      "\n",
      " Make sure to end your response with: \n",
      " Answer: <Letter of the correct answer>\n"
     ]
    }
   ],
   "source": [
    "print(Prompts[0])"
   ]
  },
  {
   "cell_type": "code",
   "execution_count": 25,
   "metadata": {},
   "outputs": [],
   "source": [
    "from oneshot_prompting.chatbot import Chatbot"
   ]
  },
  {
   "cell_type": "code",
   "execution_count": null,
   "metadata": {},
   "outputs": [],
   "source": []
  },
  {
   "cell_type": "code",
   "execution_count": 26,
   "metadata": {},
   "outputs": [],
   "source": [
    "chatbot = Chatbot(\"You are expert mathematician\")"
   ]
  },
  {
   "cell_type": "code",
   "execution_count": 27,
   "metadata": {},
   "outputs": [
    {
     "data": {
      "text/plain": [
       "\"To find the reflection of a point across the line y = x, we simply switch the x- and y-coordinates of the point. So, let's apply this to our given points:\\n\\nThe reflection of (– 2, – 4) is (– 4, – 2), which matches option D.\\n\\nSo, the correct answer is D: (– 4, –2).\\n\\nAnswer: D\""
      ]
     },
     "execution_count": 27,
     "metadata": {},
     "output_type": "execute_result"
    }
   ],
   "source": [
    "chatbot.query(Prompts[0])"
   ]
  },
  {
   "cell_type": "code",
   "execution_count": 28,
   "metadata": {},
   "outputs": [
    {
     "data": {
      "text/plain": [
       "'D'"
      ]
     },
     "execution_count": 28,
     "metadata": {},
     "output_type": "execute_result"
    }
   ],
   "source": [
    "Answers[0]"
   ]
  },
  {
   "cell_type": "code",
   "execution_count": null,
   "metadata": {},
   "outputs": [],
   "source": [
    "Responses =[]\n",
    "for prompt in Prompts:\n",
    "    response = chatbot.query(prompt)\n",
    "    chatbot.clear_history() \n",
    "    Responses.append(response)  "
   ]
  }
 ],
 "metadata": {
  "kernelspec": {
   "display_name": "base",
   "language": "python",
   "name": "python3"
  },
  "language_info": {
   "codemirror_mode": {
    "name": "ipython",
    "version": 3
   },
   "file_extension": ".py",
   "mimetype": "text/x-python",
   "name": "python",
   "nbconvert_exporter": "python",
   "pygments_lexer": "ipython3",
   "version": "3.9.7"
  }
 },
 "nbformat": 4,
 "nbformat_minor": 2
}
