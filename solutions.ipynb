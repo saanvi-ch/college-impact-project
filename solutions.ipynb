{
 "cells": [
  {
   "cell_type": "markdown",
   "metadata": {},
   "source": [
    "# Solutions\n"
   ]
  },
  {
   "cell_type": "markdown",
   "metadata": {},
   "source": [
    "## Problem 1 "
   ]
  },
  {
   "cell_type": "markdown",
   "metadata": {},
   "source": [
    "Solve this problem:\n",
    "Let $k, l > 0$ be parameters. The parabola $y = kx^2 - 2kx + l$ intersects the line $y = 4$ at two points $A$ and $B$. These points are distance 6 apart. What is the sum of the squares of the distances from $A$ and $B$ to the origin?"
   ]
  },
  {
   "cell_type": "markdown",
   "metadata": {},
   "source": [
    "### Solution"
   ]
  },
  {
   "cell_type": "markdown",
   "metadata": {},
   "source": [
    "We need to solve \n",
    "\n",
    "$$k x^2 - 2k x + l = 4$$\n",
    "\n",
    "From here, the vertex is given by \n",
    "\n",
    "$$ 2 xk - 2k = 0 ,$$\n",
    "so \n",
    "$$x = 1.$$\n",
    "\n",
    "Since $y=4$ is a horizontal line, the distance in the $x$-direction from $A$ to the vertex is the same \n",
    "as $B$ to the vertex. Thus both must have distance $3$ from the vertex.\n",
    "\n",
    "Thus \n",
    "$$A = (1 + 3, 4) = (4, 4)$$\n",
    "and \n",
    "$$B = (1 - 3, 4) = (-2, 4).$$\n",
    "\n",
    "Thus the squared distance from $A$ to the origin is \n",
    "$$4^2 + 4^2 = 32$$\n",
    "and the squared distance from $B$ to the origin is\n",
    "$$(-2)^2 + 4^2 = 20.$$\n",
    "\n",
    "This gives a final answer of\n",
    "$$32 + 20 = \\boxed{52}.$$\n",
    "\n"
   ]
  },
  {
   "cell_type": "markdown",
   "metadata": {},
   "source": []
  },
  {
   "cell_type": "markdown",
   "metadata": {},
   "source": []
  }
 ],
 "metadata": {
  "language_info": {
   "name": "python"
  }
 },
 "nbformat": 4,
 "nbformat_minor": 2
}
