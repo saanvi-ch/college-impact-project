{
 "cells": [
  {
   "cell_type": "code",
   "execution_count": 11,
   "metadata": {},
   "outputs": [],
   "source": [
    "problem = ''' \n",
    "Solve this problem:\n",
    "Let $k, l > 0$ be parameters. The parabola $y = kx^2 - 2kx + l$ intersects the line $y = 4$ at two points $A$ and $B$. These points are distance 6 apart. What is the sum of the squares of the distances from $A$ and $B$ to the origin?\n",
    "\n",
    "A well-known mathematician suggests to follow these steps:\n",
    "\n",
    "1. Find the vertex of the parabola.\n",
    "2. Note that the vertex is the midpoint of the segment $AB$.\n",
    "3. Use (1) and (2) to find the x coordinate of $A$ and $B$.\n",
    "4. Use (3) along with the fact that the y-coordiante of $A$ and $B$ is 4 to find the coordinates of $A$ and $B$.\n",
    "5. Finish the problem with the distance formula\n",
    "'''"
   ]
  },
  {
   "cell_type": "code",
   "execution_count": 9,
   "metadata": {},
   "outputs": [],
   "source": [
    "problem = ''' \n",
    "Solve this problem:\n",
    "Let $k, l > 0$ be parameters. The parabola $y = kx^2 - 2kx + l$ intersects the line $y = 4$ at two points $A$ and $B$. These points are distance 6 apart. What is the sum of the squares of the distances from $A$ and $B$ to the origin?\n",
    "'''"
   ]
  },
  {
   "cell_type": "code",
   "execution_count": 3,
   "metadata": {},
   "outputs": [],
   "source": [
    "system_prompt = ''' \n",
    "You are an expert mathematician who is seasoned at solving problems and explaining your solutions.\n",
    "'''"
   ]
  },
  {
   "cell_type": "code",
   "execution_count": 12,
   "metadata": {},
   "outputs": [
    {
     "name": "stdout",
     "output_type": "stream",
     "text": [
      "Here is a step-by-step solution for the problem:\n",
      "\n",
      "1) The vertex of a parabola $y = ax^2 + bx + c$ is given by $x = -\\frac{b}{2a}$. Here, a = k and b = -2k, so the x-coordinate of the vertex is $x = -\\frac{-2k}{2k} = 1$.\n",
      "\n",
      "2) Since the vertex is the midpoint of segment AB, and the x-coordinates of A and B are equally distant from 1, we can denote A as (1-d, 4) and B as (1+d, 4), where d is the distance from the vertex to a point (either A or B).\n",
      "\n",
      "3) Since the distance between A and B is given as 6, the x-coordinate difference is 6, which gives $2d=6$ and hence $d=3$. So, the coordinates of A and B are A = (1-3, 4) = (-2, 4) and B = (1+3, 4) = (4, 4).\n",
      "\n",
      "4) Now we have the coordinates of A and B.\n",
      "\n",
      "5) We finish the problem using the distance formula, which states that the distance from a point (x, y) to the origin (0, 0) is $\\sqrt{x^2+y^2}$. So, the distance from A to the origin is $\\sqrt{(-2)^2 + 4^2} = \\sqrt{20}$ and the distance from B to the origin is $\\sqrt{4^2 + 4^2} = \\sqrt{32}$.\n",
      "\n",
      "The sum of the squares of the distances from A and B to the origin is then $\\sqrt{20}^2 + \\sqrt{32}^2 = 20 + 32 = 52$.\n"
     ]
    }
   ],
   "source": [
    "from openai import OpenAI\n",
    "client = OpenAI()\n",
    "\n",
    "completion = client.chat.completions.create(\n",
    "  model=\"gpt-4\",\n",
    "  messages=[\n",
    "    {\"role\": \"system\", \"content\": system_prompt},\n",
    "    {\"role\": \"user\", \"content\":  problem}\n",
    "  ]\n",
    ")\n",
    "\n",
    "print(completion.choices[0].message.content)"
   ]
  },
  {
   "cell_type": "markdown",
   "metadata": {},
   "source": []
  },
  {
   "cell_type": "code",
   "execution_count": null,
   "metadata": {},
   "outputs": [],
   "source": []
  }
 ],
 "metadata": {
  "kernelspec": {
   "display_name": "base",
   "language": "python",
   "name": "python3"
  },
  "language_info": {
   "codemirror_mode": {
    "name": "ipython",
    "version": 3
   },
   "file_extension": ".py",
   "mimetype": "text/x-python",
   "name": "python",
   "nbconvert_exporter": "python",
   "pygments_lexer": "ipython3",
   "version": "3.9.7"
  }
 },
 "nbformat": 4,
 "nbformat_minor": 2
}
