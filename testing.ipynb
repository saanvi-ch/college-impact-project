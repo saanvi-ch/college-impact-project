{
 "cells": [
  {
   "cell_type": "code",
   "execution_count": 4,
   "metadata": {},
   "outputs": [
    {
     "name": "stdout",
     "output_type": "stream",
     "text": [
      "ChatCompletionMessage(content=\"In the realm of code's vast expanse,\\nWhere logic and creativity dance,\\nLies a notion both simple and grand—\\nRecursion takes its stand.\\n\\nImagine a function, brave and free,\\nThat calls upon itself, you see,\\nTo solve a problem, step by step,\\nIn smaller fractals, deftly kept.\\n\\nLike mirrors facing infinite skies,\\nOr ripples where a pebble lies,\\nRecursion dives into its core,\\nUnlocking paths to so much more.\\n\\nAt first, it seems a maze so wild,\\nA paradox, a fractal child,\\nYet with a base case, strong and clear,\\nIts journey’s end will soon appear.\\n\\nEach call unwraps another layer,\\nSolving puzzles with elegant flair,\\nTill base case dawns, the end in sight,\\nReturning answers from its flight.\\n\\nConsider factorial’s endless climb,\\nOr Fibonacci’s golden rhyme,\\nBoth whisper tales of recursion’s might,\\nA tale told with pure delight.\\n\\nSo when your problem’s endlessly deep,\\nWhere cycles tire and loops just creep,\\nInvoke recursion, and start the quest,\\nFor in its heart lies code at rest.\\n\\nThus in the world where logic bends,\\nAnd computation never ends,\\nRecursion stands, with grace and glee,\\nA beacon of simplicity.\", role='assistant', function_call=None, tool_calls=None)\n"
     ]
    }
   ],
   "source": [
    "from openai import OpenAI\n",
    "client = OpenAI()\n",
    "\n",
    "completion = client.chat.completions.create(\n",
    "  model=\"gpt-4o\",\n",
    "  messages=[\n",
    "    {\"role\": \"system\", \"content\": \"You are a poetic assistant, skilled in explaining complex programming concepts with creative flair.\"},\n",
    "    {\"role\": \"user\", \"content\": \"Compose a poem that explains the concept of recursion in programming.\"}\n",
    "  ]\n",
    ")\n",
    "\n",
    "print(completion.choices[0].message)"
   ]
  },
  {
   "cell_type": "code",
   "execution_count": 2,
   "metadata": {},
   "outputs": [
    {
     "name": "stdout",
     "output_type": "stream",
     "text": [
      "In the vast realm of code, where algorithms roam,\n",
      "There lies a technique, elegant like a poem.\n",
      "Recursion it's called, a magic spell so fine,\n",
      "A concept profound, in the programmer's line.\n",
      "\n",
      "Like a mirrored dance, repeating without end,\n",
      "A function calls itself, a looping trend.\n",
      "Divide and conquer, the task is unravelled,\n",
      "As each call descends, the problem is travelled.\n",
      "\n",
      "Base cases guard, the depths of the recursion,\n",
      "Guiding the code, with cautious precision.\n",
      "Layers upon layers, unfolding the tale,\n",
      "Solving complex problems, without fail.\n",
      "\n",
      "In a recursive loop, the beauty shines bright,\n",
      "Like a spiral staircase, climbing to height.\n",
      "An elegant pattern, in logic's embrace,\n",
      "Recursion in code, a wondrous grace.\n",
      "\n",
      "So embrace the recursive, in your programming art,\n",
      "Let your functions dance, with passion and heart.\n",
      "For in this world of code, where problems align,\n",
      "Recursion shall guide you, like a shining sign.\n"
     ]
    }
   ],
   "source": [
    "print(completion.choices[0].message.content)"
   ]
  },
  {
   "cell_type": "code",
   "execution_count": 3,
   "metadata": {},
   "outputs": [
    {
     "data": {
      "text/plain": [
       "ChatCompletion(id='chatcmpl-9aRfa2nhfJcbz6GwRHH5DsDGEVKcF', choices=[Choice(finish_reason='stop', index=0, logprobs=None, message=ChatCompletionMessage(content=\"In the vast realm of code, where algorithms roam,\\nThere lies a technique, elegant like a poem.\\nRecursion it's called, a magic spell so fine,\\nA concept profound, in the programmer's line.\\n\\nLike a mirrored dance, repeating without end,\\nA function calls itself, a looping trend.\\nDivide and conquer, the task is unravelled,\\nAs each call descends, the problem is travelled.\\n\\nBase cases guard, the depths of the recursion,\\nGuiding the code, with cautious precision.\\nLayers upon layers, unfolding the tale,\\nSolving complex problems, without fail.\\n\\nIn a recursive loop, the beauty shines bright,\\nLike a spiral staircase, climbing to height.\\nAn elegant pattern, in logic's embrace,\\nRecursion in code, a wondrous grace.\\n\\nSo embrace the recursive, in your programming art,\\nLet your functions dance, with passion and heart.\\nFor in this world of code, where problems align,\\nRecursion shall guide you, like a shining sign.\", role='assistant', function_call=None, tool_calls=None))], created=1718473198, model='gpt-3.5-turbo-0125', object='chat.completion', system_fingerprint=None, usage=CompletionUsage(completion_tokens=198, prompt_tokens=39, total_tokens=237))"
      ]
     },
     "execution_count": 3,
     "metadata": {},
     "output_type": "execute_result"
    }
   ],
   "source": [
    "completion "
   ]
  },
  {
   "cell_type": "markdown",
   "metadata": {},
   "source": []
  },
  {
   "cell_type": "code",
   "execution_count": null,
   "metadata": {},
   "outputs": [],
   "source": []
  }
 ],
 "metadata": {
  "kernelspec": {
   "display_name": "base",
   "language": "python",
   "name": "python3"
  },
  "language_info": {
   "codemirror_mode": {
    "name": "ipython",
    "version": 3
   },
   "file_extension": ".py",
   "mimetype": "text/x-python",
   "name": "python",
   "nbconvert_exporter": "python",
   "pygments_lexer": "ipython3",
   "version": "3.9.7"
  }
 },
 "nbformat": 4,
 "nbformat_minor": 2
}
