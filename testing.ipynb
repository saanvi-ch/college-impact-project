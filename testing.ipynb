{
 "cells": [
  {
   "cell_type": "code",
   "execution_count": 14,
   "metadata": {},
   "outputs": [],
   "source": [
    "problem = ''' \n",
    "For how many positive integers $m$ does the equation [vert vert x-1 vert -2 vert=frac{m}{100}] have $4$ distinct solutions?\n",
    "'''"
   ]
  },
  {
   "cell_type": "code",
   "execution_count": 15,
   "metadata": {},
   "outputs": [],
   "source": [
    "problem = '''\n",
    "Original Problem: \n",
    "Each of the three-digits numbers $111$ to $999$ is coloured blue or yellow in such a way that the sum of any two (not necessarily different) yellow numbers is equal to a blue number. What is the maximum possible number of yellow numbers there can be?\n",
    "\n",
    "NOTE: The number 500-999 MUST be colored blue as the sum of any two numbers in that range will be greater than 999, which cannot be blue. \n",
    "\n",
    "Let's see an example of a similar problem with 2-digit numbers.\n",
    "\n",
    "Example Problem:\n",
    "\n",
    "Each of the three-digits numbers $11$ to $99$ is coloured blue or yellow in such a way that the sum of any two (not necessarily different) yellow numbers is equal to a blue number. What is the maximum possible number of yellow numbers there can be?\n",
    "\n",
    "Solution:\n",
    "The number 50-99 MUST be colored blue as the sum of any two numbers in that range will be greater than 99, which cannot be blue.\n",
    "Thus 25-49 can be colored yellow, as if a and b are in this range, a+b is in the range 50-98, which is colored blue.\n",
    "The other numbers, 11-24, must be colored blue. To see this, note that for any a with 13 <= a <=24, we have \n",
    "26 <= 2a  = a + a <= 48, so 2a is in the range 25-49, which is colored yellow. Thus these numbers must be colored blue.\n",
    "For 11 and 12, we see that 25 + 11 = 36 and 25 + 12 = 37, so these numbers must be colored blue as well, since 36 and 37\n",
    "are in the range 25-49, which is colored yellow.\n",
    "\n",
    "Now please provide your answer to the Original Problem.\n",
    "'''"
   ]
  },
  {
   "cell_type": "code",
   "execution_count": 16,
   "metadata": {},
   "outputs": [],
   "source": [
    "system_prompt = ''' \n",
    "You are an expert mathematician who is seasoned at solving problems and explaining your solutions.\n",
    "'''"
   ]
  },
  {
   "cell_type": "code",
   "execution_count": 18,
   "metadata": {},
   "outputs": [
    {
     "name": "stdout",
     "output_type": "stream",
     "text": [
      "The logic for the original problem follows the same trend as the example problem. \n",
      "\n",
      "For the numbers 500-999, they must all be colored blue as the sum of any two numbers in that range will be greater than 999, which cannot be blue. \n",
      "\n",
      "Then, for the numbers 250-499, they can all be colored yellow since if a and b belong to this range, the sum a+b would fall in the range 500-998, which we have already colored blue. \n",
      "\n",
      "The remaining numbers, 111-249, must be colored blue. To verify this for any number a in the range 131 <= a <= 248, we find that 262 <= 2a = a + a <= 496. Therefore, these sums fall within the range 250-499, which is all colored yellow, hence all numbers 131-249 must be colored blue.\n",
      "\n",
      "Now we'll look at numbers 111-130, we see that 250 + 111 = 361 and 250 + 130 = 380, both of these are within the range 361-380, which falls within the yellow range 250-499. Hence numbers 111-130 must be colored blue.\n",
      "\n",
      "Adding these up, we can determine the maximum possible number of yellow colored numbers. There are 999 - 111 + 1 = 889 total numbers. And the maximum possible number of yellow numbers will be 499 - 250 + 1 = 250.\n",
      "\n",
      "So, the solution to the original problem is 250. \n",
      "\n",
      "Thus, the maximum possible number of yellow numbers in the range 111 to 999 is 250.\n"
     ]
    }
   ],
   "source": [
    "from openai import OpenAI\n",
    "client = OpenAI()\n",
    "\n",
    "completion = client.chat.completions.create(\n",
    "  model=\"gpt-4\",\n",
    "  messages=[\n",
    "    {\"role\": \"system\", \"content\": system_prompt},\n",
    "    {\"role\": \"user\", \"content\":  problem}\n",
    "  ]\n",
    ")\n",
    "response = completion.choices[0].message.content\n",
    "print(response )"
   ]
  },
  {
   "cell_type": "code",
   "execution_count": 4,
   "metadata": {},
   "outputs": [],
   "source": [
    "responses = [] \n",
    "for j in range(10):\n",
    "\n",
    "    completion = client.chat.completions.create(\n",
    "    model=\"gpt-4\",\n",
    "    messages=[\n",
    "        {\"role\": \"system\", \"content\": system_prompt},\n",
    "        {\"role\": \"user\", \"content\":  problem}\n",
    "    ]\n",
    "    )\n",
    "    response = completion.choices[0].message.content\n",
    "    responses.append(response)"
   ]
  },
  {
   "cell_type": "code",
   "execution_count": 10,
   "metadata": {},
   "outputs": [],
   "source": [
    "for j,response in enumerate(responses):\n",
    "    if \"250\" in response or \"249\" in response:\n",
    "        print(j)    \n",
    "        print(response)\n",
    "        break"
   ]
  },
  {
   "cell_type": "code",
   "execution_count": 11,
   "metadata": {},
   "outputs": [
    {
     "name": "stdout",
     "output_type": "stream",
     "text": [
      "If the sum of any two yellow numbers is always a blue number, then in other words, once two numbers are colored yellow, their sum cannot be colored yellow. \n",
      "\n",
      "From observation, we find out that one of the effective ways to color the numbers is to color all the odd numbers yellow and all the even numbers blue. If we look at the three-digit numbers from $111$ to $999$, there are $450$ numbers in total. Half of them are odd, and half of them are even. So we can color $225$ numbers yellow and the other $225$ numbers blue. \n",
      "\n",
      "Let's proof that we can't color more than $225$ numbers yellow:\n",
      "Suppose that $a$, $b$, $c$ are yellow numbers. Then $a+b=c$ is not allowed. Hence $c$ must be odd and $a$ and $b$ must be even. This shows that the number of yellow numbers is less than or equal to the number of blue numbers.\n",
      "\n",
      "So the maximum possible number of yellow numbers is $225$.\n",
      "\n",
      "Note:\n",
      "We can take a look at the special case that all the yellow numbers are odd. If we add two odd numbers, we always get an even number. Since their sum cannot be yellow, all even numbers must be colored blue. So indeed we've found out one of the optimal solutions to the problem, that is, color all odd numbers yellow and all even numbers blue, which is a valid solution.\n"
     ]
    }
   ],
   "source": [
    "print(responses[3])"
   ]
  },
  {
   "cell_type": "code",
   "execution_count": null,
   "metadata": {},
   "outputs": [],
   "source": []
  }
 ],
 "metadata": {
  "kernelspec": {
   "display_name": "base",
   "language": "python",
   "name": "python3"
  },
  "language_info": {
   "codemirror_mode": {
    "name": "ipython",
    "version": 3
   },
   "file_extension": ".py",
   "mimetype": "text/x-python",
   "name": "python",
   "nbconvert_exporter": "python",
   "pygments_lexer": "ipython3",
   "version": "3.9.7"
  }
 },
 "nbformat": 4,
 "nbformat_minor": 2
}
