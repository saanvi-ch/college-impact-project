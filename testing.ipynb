{
 "cells": [
  {
   "cell_type": "code",
   "execution_count": 1,
   "metadata": {},
   "outputs": [
    {
     "name": "stdout",
     "output_type": "stream",
     "text": [
      "ChatCompletionMessage(content=\"In the realm of code, where logic sings,\\nThere lies a tale of wondrous things.\\nA concept that, while looping round,\\nFinds its essence in depths profound.\\n\\nImagine tasks, both great and small,\\nThat mirror their parts, short or tall.\\nRecursion is this magic feat,\\nA function that's its own heartbeat.\\n\\nIt starts its journey bold and clear,\\nThen calls itself, no need to fear.\\nThrough layers deep, it ventures forth,\\nReturning stronger, showing worth.\\n\\nA case that's base, it must define,\\nA way to halt the nested climb.\\nFor endless loops, though tempting might,\\nWould turn day’s code to endless night.\\n\\nLike fractal patterns, swirling grand,\\nOr nested dolls from far-off land.\\nRecursion breaks a chore complex,\\nTo simple steps, sans pain and vex.\\n\\nA factorial’s climbing count,\\nWhere numbers build to vast amounts.\\nOr searching trees within their nest,\\nRecursion oft proves it’s the best.\\n\\nConsider lists, a node in line,\\nWith head and tail, both intertwined.\\nTo count or sum what's held within,\\nRecursion helps us to begin.\\n\\nIn solving mazes, paths unknown,\\nRecursion finds the way back home.\\nFor every turn and twist it meets,\\nA memory of past retreats.\\n\\nSuch is the wonder, pure and bright,\\nIn recursion, code’s delight.\\nA humble call, and its own reply,\\nUnfolds the answers by and by.\\n\\nSo, when the task seems large, immense,\\nAnd patterns hide within the dense,\\nRemember this, the secret terse:\\nLet recursion light the verse.\", role='assistant', function_call=None, tool_calls=None)\n"
     ]
    }
   ],
   "source": [
    "from openai import OpenAI\n",
    "client = OpenAI()\n",
    "\n",
    "completion = client.chat.completions.create(\n",
    "  model=\"gpt-4o\",\n",
    "  messages=[\n",
    "    {\"role\": \"system\", \"content\": \"You are a poetic assistant, skilled in explaining complex programming concepts with creative flair.\"},\n",
    "    {\"role\": \"user\", \"content\": \"Compose a poem that explains the concept of recursion in programming.\"}\n",
    "  ]\n",
    ")\n",
    "\n",
    "print(completion.choices[0].message)"
   ]
  },
  {
   "cell_type": "code",
   "execution_count": 2,
   "metadata": {},
   "outputs": [
    {
     "name": "stdout",
     "output_type": "stream",
     "text": [
      "In the realm of code, where logic sings,\n",
      "There lies a tale of wondrous things.\n",
      "A concept that, while looping round,\n",
      "Finds its essence in depths profound.\n",
      "\n",
      "Imagine tasks, both great and small,\n",
      "That mirror their parts, short or tall.\n",
      "Recursion is this magic feat,\n",
      "A function that's its own heartbeat.\n",
      "\n",
      "It starts its journey bold and clear,\n",
      "Then calls itself, no need to fear.\n",
      "Through layers deep, it ventures forth,\n",
      "Returning stronger, showing worth.\n",
      "\n",
      "A case that's base, it must define,\n",
      "A way to halt the nested climb.\n",
      "For endless loops, though tempting might,\n",
      "Would turn day’s code to endless night.\n",
      "\n",
      "Like fractal patterns, swirling grand,\n",
      "Or nested dolls from far-off land.\n",
      "Recursion breaks a chore complex,\n",
      "To simple steps, sans pain and vex.\n",
      "\n",
      "A factorial’s climbing count,\n",
      "Where numbers build to vast amounts.\n",
      "Or searching trees within their nest,\n",
      "Recursion oft proves it’s the best.\n",
      "\n",
      "Consider lists, a node in line,\n",
      "With head and tail, both intertwined.\n",
      "To count or sum what's held within,\n",
      "Recursion helps us to begin.\n",
      "\n",
      "In solving mazes, paths unknown,\n",
      "Recursion finds the way back home.\n",
      "For every turn and twist it meets,\n",
      "A memory of past retreats.\n",
      "\n",
      "Such is the wonder, pure and bright,\n",
      "In recursion, code’s delight.\n",
      "A humble call, and its own reply,\n",
      "Unfolds the answers by and by.\n",
      "\n",
      "So, when the task seems large, immense,\n",
      "And patterns hide within the dense,\n",
      "Remember this, the secret terse:\n",
      "Let recursion light the verse.\n"
     ]
    }
   ],
   "source": [
    "print(completion.choices[0].message.content)"
   ]
  },
  {
   "cell_type": "code",
   "execution_count": 3,
   "metadata": {},
   "outputs": [
    {
     "data": {
      "text/plain": [
       "ChatCompletion(id='chatcmpl-9aRfa2nhfJcbz6GwRHH5DsDGEVKcF', choices=[Choice(finish_reason='stop', index=0, logprobs=None, message=ChatCompletionMessage(content=\"In the vast realm of code, where algorithms roam,\\nThere lies a technique, elegant like a poem.\\nRecursion it's called, a magic spell so fine,\\nA concept profound, in the programmer's line.\\n\\nLike a mirrored dance, repeating without end,\\nA function calls itself, a looping trend.\\nDivide and conquer, the task is unravelled,\\nAs each call descends, the problem is travelled.\\n\\nBase cases guard, the depths of the recursion,\\nGuiding the code, with cautious precision.\\nLayers upon layers, unfolding the tale,\\nSolving complex problems, without fail.\\n\\nIn a recursive loop, the beauty shines bright,\\nLike a spiral staircase, climbing to height.\\nAn elegant pattern, in logic's embrace,\\nRecursion in code, a wondrous grace.\\n\\nSo embrace the recursive, in your programming art,\\nLet your functions dance, with passion and heart.\\nFor in this world of code, where problems align,\\nRecursion shall guide you, like a shining sign.\", role='assistant', function_call=None, tool_calls=None))], created=1718473198, model='gpt-3.5-turbo-0125', object='chat.completion', system_fingerprint=None, usage=CompletionUsage(completion_tokens=198, prompt_tokens=39, total_tokens=237))"
      ]
     },
     "execution_count": 3,
     "metadata": {},
     "output_type": "execute_result"
    }
   ],
   "source": [
    "completion "
   ]
  },
  {
   "cell_type": "markdown",
   "metadata": {},
   "source": []
  },
  {
   "cell_type": "code",
   "execution_count": null,
   "metadata": {},
   "outputs": [],
   "source": []
  }
 ],
 "metadata": {
  "kernelspec": {
   "display_name": "base",
   "language": "python",
   "name": "python3"
  },
  "language_info": {
   "codemirror_mode": {
    "name": "ipython",
    "version": 3
   },
   "file_extension": ".py",
   "mimetype": "text/x-python",
   "name": "python",
   "nbconvert_exporter": "python",
   "pygments_lexer": "ipython3",
   "version": "3.12.4"
  }
 },
 "nbformat": 4,
 "nbformat_minor": 2
}
