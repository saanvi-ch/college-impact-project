{
 "cells": [
  {
   "cell_type": "code",
   "execution_count": 1,
   "metadata": {},
   "outputs": [],
   "source": [
    "problem = ''' \n",
    "Solve this problem and explain the solution: Suppose that we roll four 6-sided fair dice with faces numbered 1 to~6. Let $a/b$ be the probability that the highest roll is a 5, where $a$ and $b$ are relatively prime positive integers. Find $a + b$.\n",
    "'''"
   ]
  },
  {
   "cell_type": "code",
   "execution_count": 2,
   "metadata": {},
   "outputs": [],
   "source": [
    "system_prompt = ''' \n",
    "Given a task, please determine the best way to solve the math problem. List the steps out.\n",
    "'''"
   ]
  },
  {
   "cell_type": "code",
   "execution_count": 3,
   "metadata": {},
   "outputs": [
    {
     "name": "stdout",
     "output_type": "stream",
     "text": [
      "To solve this problem, we first need to understand what it's asking. We roll four 6-sided dice, and we want to know the probability that the highest roll is a 5. This means, no roll should be a 6 and at least one roll is a 5. We can break this down into steps:\n",
      "\n",
      "1. Firstly, determine the total number of outcomes when you roll four 6-sided dice. Since each die has six possibilities and we roll four times, there are 6*6*6*6 = 1296 total possible outcomes.\n",
      "\n",
      "2. Secondly, determine total outcomes when the highest roll is a 5. For this, we have two cases: \n",
      "\n",
      "   Case I: All 4 rolls are from 1 to 5. There are 5*5*5*5 = 625 outcomes.\n",
      "\n",
      "   Case II: At least one roll is a 5. there are 4 ways to choose which dice will be 5. The other three dice can be from 1-4. So the outcomes would be 4*4*4*4*4=1024. But this includes the case when all four dice are 5. So we need to subtract it out. In total, there are 1024 - 1 = 1023 outcomes.\n",
      "\n",
      "3. Add up all the outcomes from above two cases. Therefore, there are 625 + 1023 = 1648 outcomes where the highest roll is a 5.\n",
      "\n",
      "4. So, the probability that the highest roll is a 5 equals to 1648 / 1296 = 412 / 324 (by dividing the numerator and the denominator by 4 to make it a relatively prime).\n",
      "\n",
      "5. Finally, to find a + b, you would add 412 + 324, which equals 736.\n",
      "\n",
      "So, the best solution for this problem is 736.\n"
     ]
    }
   ],
   "source": [
    "from openai import OpenAI\n",
    "client = OpenAI()\n",
    "\n",
    "completion = client.chat.completions.create(\n",
    "  model=\"gpt-4\",\n",
    "  messages=[\n",
    "    {\"role\": \"system\", \"content\": system_prompt},\n",
    "    {\"role\": \"user\", \"content\":  problem}\n",
    "  ]\n",
    ")\n",
    "response = completion.choices[0].message.content\n",
    "print(response)"
   ]
  },
  {
   "cell_type": "code",
   "execution_count": null,
   "metadata": {},
   "outputs": [],
   "source": []
  }
 ],
 "metadata": {
  "kernelspec": {
   "display_name": "Python 3",
   "language": "python",
   "name": "python3"
  },
  "language_info": {
   "codemirror_mode": {
    "name": "ipython",
    "version": 3
   },
   "file_extension": ".py",
   "mimetype": "text/x-python",
   "name": "python",
   "nbconvert_exporter": "python",
   "pygments_lexer": "ipython3",
   "version": "3.12.4"
  }
 },
 "nbformat": 4,
 "nbformat_minor": 2
}
